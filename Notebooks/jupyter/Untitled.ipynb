{
 "cells": [
  {
   "cell_type": "code",
   "execution_count": 81,
   "metadata": {
    "ExecuteTime": {
     "end_time": "2022-01-17T10:48:57.676391Z",
     "start_time": "2022-01-17T10:48:57.665499Z"
    }
   },
   "outputs": [],
   "source": [
    "import numpy as np\n",
    "import MAS_library as MASL\n",
    "import plotting_library as PL\n",
    "from pylab import *\n",
    "from matplotlib.colors import LogNorm\n",
    "import matplotlib as plt\n",
    "import pandas as pd\n",
    "import h5py as h5\n",
    "import matplotlib.pyplot as plt\n",
    "text_size=26\n",
    "fig_size_x=24\n",
    "fig_size_y=14\n",
    "from collections import defaultdict\n",
    "ColorsI = [\"red\",\"blue\",\"green\",\"purple\",\"darkcyan\",\"gold\",\"maroon\",\"black\",\"darkslategrey\",\n",
    "           \"darkgreen\",\"navy\",\"indigo\",\"magenta\",\"salmon\",\"dodgerblue\",\"springgreen\",\"plum\",\n",
    "           \"cyan\",\"khaki\",\"lightcoral\",\"gray\"]\n",
    "import seaborn as sns\n",
    "Colors = sns.color_palette(\"colorblind\", 50).as_hex()\n",
    "from mpl_toolkits.axes_grid1 import make_axes_locatable\n",
    "from scipy.interpolate import InterpolatedUnivariateSpline\n",
    "from scipy import interpolate\n",
    "%matplotlib widget\n",
    "from scipy.interpolate import interp1d, UnivariateSpline\n",
    "import scipy.integrate as integrate\n",
    "import h5py\n",
    "# from mayavi import mlab\n",
    "from scipy import interpolate"
   ]
  },
  {
   "cell_type": "code",
   "execution_count": 82,
   "metadata": {
    "ExecuteTime": {
     "end_time": "2022-01-17T10:48:57.958782Z",
     "start_time": "2022-01-17T10:48:57.954457Z"
    }
   },
   "outputs": [],
   "source": [
    "def nested_dict(n, type):\n",
    "    if n == 1:\n",
    "        return defaultdict(type)\n",
    "    else:\n",
    "        return defaultdict(lambda: nested_dict(n-1, type))\n",
    "    \n",
    "data = nested_dict(5, list)\n",
    "maximum = nested_dict(5, list)\n",
    "variance = nested_dict(5, list)\n",
    "avg = nested_dict(5, list)\n",
    "sigma_R = nested_dict(5, list)"
   ]
  },
  {
   "cell_type": "code",
   "execution_count": 83,
   "metadata": {
    "ExecuteTime": {
     "end_time": "2022-01-17T10:48:58.421925Z",
     "start_time": "2022-01-17T10:48:58.411773Z"
    }
   },
   "outputs": [],
   "source": [
    "z = [100, 50, 10, 6, 0];\n",
    "\n",
    "# num=np.shape(name)[0]\n",
    "# for i in range(0,num):\n",
    "\n",
    "files= h5py.File('./../../output/snap000_rhoN.h5', \"r\") \n",
    "#     hh= h5py.File('./CSCS_data_runs_Jan28/Blowup_sims/cs2_e7/solo_kess_eq/non_linear/cs2_e7_Ngrid_16_dtau_04/output////zeta_'+str(i)+'.h5', \"r\") \n",
    "\n",
    "# data[name[i]] = files['data']\n",
    "maximum = np.max( files['data']);\n",
    "variance=np.std( files['data']);\n",
    "avg=np.mean( files['data']);\n",
    "\n",
    "data_max = np.loadtxt(\"./../../output/Results_max.txt\")\n",
    "data_mean = np.loadtxt(\"./../../output/Result_avg.txt\")\n",
    "\n",
    "\n"
   ]
  },
  {
   "cell_type": "code",
   "execution_count": 84,
   "metadata": {
    "ExecuteTime": {
     "end_time": "2022-01-17T10:48:59.189727Z",
     "start_time": "2022-01-17T10:48:59.186590Z"
    }
   },
   "outputs": [
    {
     "name": "stdout",
     "output_type": "stream",
     "text": [
      "0.5836510987391655 9.724483099565806e-06 0.569648\n"
     ]
    }
   ],
   "source": [
    "print(maximum, variance**2, avg)"
   ]
  },
  {
   "cell_type": "code",
   "execution_count": 85,
   "metadata": {
    "ExecuteTime": {
     "end_time": "2022-01-17T10:49:00.074133Z",
     "start_time": "2022-01-17T10:49:00.070514Z"
    }
   },
   "outputs": [
    {
     "name": "stdout",
     "output_type": "stream",
     "text": [
      "0.583651 9.72448e-06 0.569648\n"
     ]
    }
   ],
   "source": [
    "num=2\n",
    "print(data_max[num,5], data_max[num,6], data_mean[num,5])"
   ]
  },
  {
   "cell_type": "code",
   "execution_count": null,
   "metadata": {},
   "outputs": [],
   "source": []
  },
  {
   "cell_type": "code",
   "execution_count": null,
   "metadata": {},
   "outputs": [],
   "source": []
  }
 ],
 "metadata": {
  "kernelspec": {
   "display_name": "Python 3",
   "language": "python",
   "name": "python3"
  },
  "language_info": {
   "codemirror_mode": {
    "name": "ipython",
    "version": 3
   },
   "file_extension": ".py",
   "mimetype": "text/x-python",
   "name": "python",
   "nbconvert_exporter": "python",
   "pygments_lexer": "ipython3",
   "version": "3.7.4"
  },
  "toc": {
   "base_numbering": 1,
   "nav_menu": {},
   "number_sections": true,
   "sideBar": true,
   "skip_h1_title": false,
   "title_cell": "Table of Contents",
   "title_sidebar": "Contents",
   "toc_cell": false,
   "toc_position": {},
   "toc_section_display": true,
   "toc_window_display": false
  }
 },
 "nbformat": 4,
 "nbformat_minor": 2
}
