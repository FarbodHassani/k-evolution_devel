{
 "cells": [
  {
   "cell_type": "code",
   "execution_count": 49,
   "metadata": {
    "ExecuteTime": {
     "end_time": "2022-01-17T10:42:32.729075Z",
     "start_time": "2022-01-17T10:42:32.715709Z"
    }
   },
   "outputs": [],
   "source": [
    "import numpy as np\n",
    "import MAS_library as MASL\n",
    "import plotting_library as PL\n",
    "from pylab import *\n",
    "from matplotlib.colors import LogNorm\n",
    "import matplotlib as plt\n",
    "import pandas as pd\n",
    "import h5py as h5\n",
    "import matplotlib.pyplot as plt\n",
    "text_size=26\n",
    "fig_size_x=24\n",
    "fig_size_y=14\n",
    "from collections import defaultdict\n",
    "ColorsI = [\"red\",\"blue\",\"green\",\"purple\",\"darkcyan\",\"gold\",\"maroon\",\"black\",\"darkslategrey\",\n",
    "           \"darkgreen\",\"navy\",\"indigo\",\"magenta\",\"salmon\",\"dodgerblue\",\"springgreen\",\"plum\",\n",
    "           \"cyan\",\"khaki\",\"lightcoral\",\"gray\"]\n",
    "import seaborn as sns\n",
    "Colors = sns.color_palette(\"colorblind\", 50).as_hex()\n",
    "from mpl_toolkits.axes_grid1 import make_axes_locatable\n",
    "from scipy.interpolate import InterpolatedUnivariateSpline\n",
    "from scipy import interpolate\n",
    "%matplotlib widget\n",
    "from scipy.interpolate import interp1d, UnivariateSpline\n",
    "import scipy.integrate as integrate\n",
    "import h5py\n",
    "# from mayavi import mlab\n",
    "from scipy import interpolate"
   ]
  },
  {
   "cell_type": "code",
   "execution_count": 50,
   "metadata": {
    "ExecuteTime": {
     "end_time": "2022-01-17T10:42:33.546714Z",
     "start_time": "2022-01-17T10:42:33.542727Z"
    }
   },
   "outputs": [],
   "source": [
    "def nested_dict(n, type):\n",
    "    if n == 1:\n",
    "        return defaultdict(type)\n",
    "    else:\n",
    "        return defaultdict(lambda: nested_dict(n-1, type))\n",
    "    \n",
    "data = nested_dict(5, list)\n",
    "maximum = nested_dict(5, list)\n",
    "variance = nested_dict(5, list)\n",
    "avg = nested_dict(5, list)\n",
    "sigma_R = nested_dict(5, list)"
   ]
  },
  {
   "cell_type": "code",
   "execution_count": 51,
   "metadata": {
    "ExecuteTime": {
     "end_time": "2022-01-17T10:42:34.229720Z",
     "start_time": "2022-01-17T10:42:34.215395Z"
    }
   },
   "outputs": [],
   "source": [
    "z = [100, 50, 10, 6, 0];\n",
    "\n",
    "# num=np.shape(name)[0]\n",
    "# for i in range(0,num):\n",
    "\n",
    "files= h5py.File('./../../output/snap000_rhoN.h5', \"r\") \n",
    "#     hh= h5py.File('./CSCS_data_runs_Jan28/Blowup_sims/cs2_e7/solo_kess_eq/non_linear/cs2_e7_Ngrid_16_dtau_04/output////zeta_'+str(i)+'.h5', \"r\") \n",
    "\n",
    "# data[name[i]] = files['data']\n",
    "maximum = np.max( files['data']);\n",
    "variance=np.std( files['data']);\n",
    "avg=np.mean( files['data']);\n",
    "\n",
    "data_max = np.loadtxt(\"./../../output/Results_max.txt\")\n",
    "data_mean = np.loadtxt(\"./../../output/Result_avg.txt\")\n",
    "\n",
    "\n"
   ]
  },
  {
   "cell_type": "code",
   "execution_count": 57,
   "metadata": {
    "ExecuteTime": {
     "end_time": "2022-01-17T10:44:11.698475Z",
     "start_time": "2022-01-17T10:44:11.695289Z"
    }
   },
   "outputs": [
    {
     "name": "stdout",
     "output_type": "stream",
     "text": [
      "0.3732963791835092 0.00015759950242671833 0.31204608023197555\n"
     ]
    }
   ],
   "source": [
    "print(maximum, variance**2, avg)"
   ]
  },
  {
   "cell_type": "code",
   "execution_count": 58,
   "metadata": {
    "ExecuteTime": {
     "end_time": "2022-01-17T10:44:12.686886Z",
     "start_time": "2022-01-17T10:44:12.683361Z"
    }
   },
   "outputs": [
    {
     "name": "stdout",
     "output_type": "stream",
     "text": [
      "0.373296 0.0001576 0.312046\n"
     ]
    }
   ],
   "source": [
    "num=2\n",
    "print(data_max[num,5], data_max[num,6], data_mean[num,5])"
   ]
  },
  {
   "cell_type": "code",
   "execution_count": null,
   "metadata": {},
   "outputs": [],
   "source": []
  }
 ],
 "metadata": {
  "kernelspec": {
   "display_name": "Python 3",
   "language": "python",
   "name": "python3"
  },
  "language_info": {
   "codemirror_mode": {
    "name": "ipython",
    "version": 3
   },
   "file_extension": ".py",
   "mimetype": "text/x-python",
   "name": "python",
   "nbconvert_exporter": "python",
   "pygments_lexer": "ipython3",
   "version": "3.7.4"
  },
  "toc": {
   "base_numbering": 1,
   "nav_menu": {},
   "number_sections": true,
   "sideBar": true,
   "skip_h1_title": false,
   "title_cell": "Table of Contents",
   "title_sidebar": "Contents",
   "toc_cell": false,
   "toc_position": {},
   "toc_section_display": true,
   "toc_window_display": false
  }
 },
 "nbformat": 4,
 "nbformat_minor": 2
}
