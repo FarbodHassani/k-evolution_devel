{
 "cells": [
  {
   "cell_type": "markdown",
   "metadata": {},
   "source": [
    "# Notebook to check z_b -N_grid figure"
   ]
  },
  {
   "cell_type": "markdown",
   "metadata": {},
   "source": [
    "## Loading packages"
   ]
  },
  {
   "cell_type": "code",
   "execution_count": null,
   "metadata": {
    "ExecuteTime": {
     "start_time": "2021-12-02T09:57:18.828Z"
    }
   },
   "outputs": [],
   "source": [
    "import numpy as np\n",
    "import MAS_library as MASL\n",
    "import plotting_library as PL\n",
    "from pylab import *\n",
    "from matplotlib.colors import LogNorm\n",
    "import matplotlib as plt\n",
    "import pandas as pd\n",
    "import h5py as h5\n",
    "import matplotlib.pyplot as plt\n",
    "text_size=26\n",
    "fig_size_x=24\n",
    "fig_size_y=14\n",
    "from collections import defaultdict\n",
    "\n",
    "import seaborn as sns\n",
    "Colors = sns.color_palette(\"colorblind\", 16).as_hex()\n",
    "from mpl_toolkits.axes_grid1 import make_axes_locatable\n",
    "from scipy.interpolate import InterpolatedUnivariateSpline\n",
    "from scipy import interpolate\n",
    "%matplotlib widget\n",
    "from scipy.interpolate import interp1d, UnivariateSpline\n",
    "import scipy.integrate as integrate\n",
    "import h5py\n",
    "from mayavi import mlab"
   ]
  },
  {
   "cell_type": "code",
   "execution_count": 4,
   "metadata": {
    "ExecuteTime": {
     "end_time": "2021-12-02T09:57:01.937699Z",
     "start_time": "2021-12-02T09:57:01.934047Z"
    }
   },
   "outputs": [],
   "source": [
    "def nested_dict(n, type):\n",
    "    if n == 1:\n",
    "        return defaultdict(type)\n",
    "    else:\n",
    "        return defaultdict(lambda: nested_dict(n-1, type))\n",
    "    \n",
    "data_org = nested_dict(3, list)\n",
    "data = nested_dict(4, list)"
   ]
  },
  {
   "cell_type": "markdown",
   "metadata": {},
   "source": [
    "## Header loading"
   ]
  },
  {
   "cell_type": "code",
   "execution_count": 5,
   "metadata": {
    "ExecuteTime": {
     "end_time": "2021-12-02T09:57:07.889253Z",
     "start_time": "2021-12-02T09:57:07.715692Z"
    }
   },
   "outputs": [
    {
     "ename": "NameError",
     "evalue": "name 'h5py' is not defined",
     "output_type": "error",
     "traceback": [
      "\u001b[0;31m---------------------------------------------------------------------------\u001b[0m",
      "\u001b[0;31mNameError\u001b[0m                                 Traceback (most recent call last)",
      "\u001b[0;32m<ipython-input-5-a348fc3c2b68>\u001b[0m in \u001b[0;36m<module>\u001b[0;34m\u001b[0m\n\u001b[1;32m     13\u001b[0m \u001b[0;32mfor\u001b[0m \u001b[0mi\u001b[0m \u001b[0;32min\u001b[0m \u001b[0mrange\u001b[0m\u001b[0;34m(\u001b[0m\u001b[0;36m0\u001b[0m\u001b[0;34m,\u001b[0m\u001b[0mnum\u001b[0m\u001b[0;34m)\u001b[0m\u001b[0;34m:\u001b[0m\u001b[0;34m\u001b[0m\u001b[0;34m\u001b[0m\u001b[0m\n\u001b[1;32m     14\u001b[0m \u001b[0;34m\u001b[0m\u001b[0m\n\u001b[0;32m---> 15\u001b[0;31m     \u001b[0mfiles\u001b[0m\u001b[0;34m=\u001b[0m \u001b[0mh5py\u001b[0m\u001b[0;34m.\u001b[0m\u001b[0mFile\u001b[0m\u001b[0;34m(\u001b[0m\u001b[0;34m'./..//output/'\u001b[0m\u001b[0;34m+\u001b[0m\u001b[0mname\u001b[0m\u001b[0;34m[\u001b[0m\u001b[0mi\u001b[0m\u001b[0;34m]\u001b[0m\u001b[0;34m+\u001b[0m\u001b[0;34m'/lcdm_snap000_rhoN.h5'\u001b[0m\u001b[0;34m,\u001b[0m \u001b[0;34m\"r\"\u001b[0m\u001b[0;34m)\u001b[0m\u001b[0;34m\u001b[0m\u001b[0;34m\u001b[0m\u001b[0m\n\u001b[0m\u001b[1;32m     16\u001b[0m \u001b[0;31m#     hh= h5py.File('./CSCS_data_runs_Jan28/Blowup_sims/cs2_e7/solo_kess_eq/non_linear/cs2_e7_Ngrid_16_dtau_04/output////zeta_'+str(i)+'.h5', \"r\")\u001b[0m\u001b[0;34m\u001b[0m\u001b[0;34m\u001b[0m\u001b[0;34m\u001b[0m\u001b[0m\n\u001b[1;32m     17\u001b[0m \u001b[0;34m\u001b[0m\u001b[0m\n",
      "\u001b[0;31mNameError\u001b[0m: name 'h5py' is not defined"
     ]
    }
   ],
   "source": [
    "descrip=[\"L-50-Ngrid-128-seed1\",\"L-100-Ngrid-128-seed1\",\"L-150-Ngrid-128-seed1\",\n",
    "      \"L-200-Ngrid-128-seed1\",\"L-300-Ngrid-64-seed1\",\"L-300-Ngrid-128-seed1\",\n",
    "      \"L-300-Ngrid-128-seed2\",\"L-300-Ngrid-128-seed3\",\"L-300-Ngrid-128-seed4\",\n",
    "      \"L-600-Ngrid-128-seed1\",\"L-900-Ngrid-128-seed1\",\"L-1200-Ngrid-128-seed1\",\n",
    "      \"L-2400-Ngrid-128-seed1\",\"L-3600-Ngrid-128-seed1\",\"L-300_Ngrid-32_seed1\",\"L-300-Ngrid-256-seed1\",\"L-300-Ngrid-512-seed1\"]\n",
    "\n",
    "name=[\"L_50_Ngrid_128_seed1\",\"L_100_Ngrid_128_seed1\",\"L_150_Ngrid_128_seed1\",\n",
    "      \"L_200_Ngrid_128_seed1\",\"L_300_Ngrid_64_seed1\",\"L_300_Ngrid_128_seed1\",\n",
    "      \"L_300_Ngrid_128_seed2\",\"L_300_Ngrid_128_seed3\",\"L_300_Ngrid_128_seed4\",\n",
    "      \"L_600_Ngrid_128_seed1\",\"L_900_Ngrid_128_seed1\",\"L_1200_Ngrid_128_seed1\",\n",
    "      \"L_2400_Ngrid_128_seed1\",\"L_3600_Ngrid_128_seed1\",\"L_300_Ngrid_32_seed1\",\"L_300_Ngrid_256_seed1\",\"L_300_Ngrid_512_seed1\"]\n",
    "num=np.shape(name)[0]\n",
    "for i in range(0,num):\n",
    "\n",
    "    files= h5py.File('./..//output/'+name[i]+'/lcdm_snap000_rhoN.h5', \"r\") \n",
    "#     hh= h5py.File('./CSCS_data_runs_Jan28/Blowup_sims/cs2_e7/solo_kess_eq/non_linear/cs2_e7_Ngrid_16_dtau_04/output////zeta_'+str(i)+'.h5', \"r\") \n",
    "\n",
    "    data[name[i]] = files['data']\n",
    "    maximum[name[i]]=np.max( files['data']);\n",
    "    variance[name[i]]=np.std( files['data']);\n",
    "    avg[name[i]]=np.mean( files['data']);\n",
    "\n"
   ]
  },
  {
   "cell_type": "markdown",
   "metadata": {},
   "source": [
    "## Loading the halos data"
   ]
  },
  {
   "cell_type": "code",
   "execution_count": 85,
   "metadata": {
    "ExecuteTime": {
     "end_time": "2021-09-07T13:34:15.719530Z",
     "start_time": "2021-09-07T13:26:36.675215Z"
    }
   },
   "outputs": [],
   "source": [
    "address = \"/Users/farbod/Dropbox/Projects/Doppler_RSD/Data/Halos_snapshots_Box/gevolution_boxsize_4032_ngrid_4608_lcdm_05062020/output/halos_snapshot/\"\n",
    "\n",
    "Halos_0 = np.loadtxt(address+\"./out_0_subhalos.txt\")\n",
    "Halos_1 = np.loadtxt(address+\"./out_1_subhalos.txt\")\n",
    "Halos_2 = np.loadtxt(address+\"./out_2.list\")\n",
    "Halos_3 = np.loadtxt(address+\"./out_3.list\")\n",
    "Halos_4 = np.loadtxt(address+\"./out_4.list\")\n",
    "\n"
   ]
  },
  {
   "cell_type": "code",
   "execution_count": 87,
   "metadata": {
    "ExecuteTime": {
     "end_time": "2021-09-07T13:53:41.112430Z",
     "start_time": "2021-09-07T13:53:41.107868Z"
    }
   },
   "outputs": [],
   "source": [
    "data_org[\"z=3\"] = Halos_0\n",
    "data_org[\"z=2\"] = Halos_1\n",
    "data_org[\"z=1\"] = Halos_2\n",
    "data_org[\"z=0.5\"] = Halos_3\n",
    "data_org[\"z=0\"] = Halos_4\n"
   ]
  },
  {
   "cell_type": "markdown",
   "metadata": {},
   "source": [
    "## Bins and numbers"
   ]
  },
  {
   "cell_type": "code",
   "execution_count": 156,
   "metadata": {
    "ExecuteTime": {
     "end_time": "2021-09-07T14:13:25.833998Z",
     "start_time": "2021-09-07T14:13:23.876590Z"
    }
   },
   "outputs": [],
   "source": [
    "for z in [3,2,1,0.5,0]:\n",
    "    nbins = 20\n",
    "    \n",
    "    x = data_org[\"z=\"+str(z)][:,2]\n",
    "    counts, bins = np.histogram( np.log10(x), bins=nbins)\n",
    "    data[\"z=\"+str(z)][\"M_vir\"]['counts'] = counts\n",
    "    data[\"z=\"+str(z)][\"M_vir\"]['bins'] = bins\n",
    "\n",
    "    x = data_org[\"z=\"+str(z)][:,19]\n",
    "    counts, bins = np.histogram( np.log10(x), bins=nbins)\n",
    "    data[\"z=\"+str(z)][\"M_vir_all\"]['counts'] = counts\n",
    "    data[\"z=\"+str(z)][\"M_vir_all\"]['bins'] = bins\n",
    "    \n",
    "    x = data_org[\"z=\"+str(z)][:,20]\n",
    "    x = x[x[:]!=0]\n",
    "    counts, bins = np.histogram(np.log10(x), bins=nbins)\n",
    "    data[\"z=\"+str(z)][\"M200b\"]['counts'] = counts\n",
    "    data[\"z=\"+str(z)][\"M200b\"]['bins'] = bins\n",
    "    \n",
    "#     x = data_org[\"z=\"+str(z)][:,21]\n",
    "#     counts, bins = np.histogram( np.log10(x), bins=nbins)\n",
    "#     data[\"z=\"+str(z)][\"M200c\"]['counts'] = counts\n",
    "#     data[\"z=\"+str(z)][\"M200c\"]['bins'] = bins\n"
   ]
  },
  {
   "cell_type": "markdown",
   "metadata": {},
   "source": [
    "## Plots"
   ]
  },
  {
   "cell_type": "code",
   "execution_count": 163,
   "metadata": {
    "ExecuteTime": {
     "end_time": "2021-09-07T14:13:58.012792Z",
     "start_time": "2021-09-07T14:13:58.008915Z"
    }
   },
   "outputs": [],
   "source": [
    "# esthetic definitions for the plots\n",
    "font = {'size'   : 20, 'family':'STIXGeneral'}\n",
    "axislabelfontsize='large'\n",
    "matplotlib.rc('font', **font)\n",
    "matplotlib.mathtext.rcParams['legend.fontsize']='small'\n",
    "plt.rcParams[\"figure.figsize\"] = [15.0,12.0]\n"
   ]
  },
  {
   "cell_type": "code",
   "execution_count": 165,
   "metadata": {
    "ExecuteTime": {
     "end_time": "2021-09-07T14:14:15.324458Z",
     "start_time": "2021-09-07T14:14:15.118741Z"
    }
   },
   "outputs": [
    {
     "data": {
      "application/vnd.jupyter.widget-view+json": {
       "model_id": "d7d29d86f6454df9b8cb85de160b5e78",
       "version_major": 2,
       "version_minor": 0
      },
      "text/plain": [
       "FigureCanvasNbAgg()"
      ]
     },
     "metadata": {},
     "output_type": "display_data"
    }
   ],
   "source": [
    "ax = plt.subplots()\n",
    "\n",
    "# ax.plot(x,y,color='purple',linestyle='-',label='1-loop')\n",
    "l=0\n",
    "for z in [3,2,1,0.5,0]:\n",
    "    y = data[\"z=\"+str(z)][\"M_vir\"]['counts']\n",
    "    x= data[\"z=\"+str(z)][\"M_vir\"]['bins']\n",
    "    plt.plot(x[:-1],y[:],\"o\",markersize=15,color = Colors[l],label =\"z=\"+str(z) + \", M_vir\")\n",
    "\n",
    "    y = data[\"z=\"+str(z)][\"M_vir_all\"]['counts']\n",
    "    x= data[\"z=\"+str(z)][\"M_vir_all\"]['bins']\n",
    "    plt.plot(x[:-1],y[:],\"o\",markersize=15,color = Colors[l+1],label =\"z=\"+str(z) + \", M_vir_all\")\n",
    "    \n",
    "    y = data[\"z=\"+str(z)][\"M200b\"]['counts']\n",
    "    x= data[\"z=\"+str(z)][\"M200b\"]['bins']\n",
    "    plt.plot(x[:-1],y[:],\"*\",markersize=15,color = Colors[l+2], label =\"z=\"+str(z) + \", M200b\")\n",
    "    l=l+3\n",
    "\n",
    "#     y = data[\"z=\"+str(z)][\"M200c\"]['counts']\n",
    "#     x= data[\"z=\"+str(z)][\"M200c\"]['bins']\n",
    "#     plt.plot(x[:-1],y[:],\"o\",label =\"z=\"+str(z) + \", M200c\")\n",
    "    \n",
    "#     plt.xscale(\"log\")\n",
    "    plt.yscale(\"log\")\n",
    "\n",
    "plt.legend(ncol=5,fontsize = 15)\n",
    "plt.ylim(1.e-1,1.e8)\n",
    "plt.xlabel(\"M\")\n",
    "plt.ylabel(\"#\")\n",
    "plt.show()\n",
    "# output of P(k) figures\n",
    "# ax.plot.set_xlim([1.e-3,1])\n",
    "# ax.plot.set_ylim([1,5e4])\n",
    "# ax.plot.set_xlabel(r'$k \\,\\,\\,\\, [h\\mathrm{Mpc}^{-1}]$')\n",
    "# ax.plot.set_ylabel(r'$P(k)\\,\\,\\,\\, [h^{-1}\\mathrm{Mpc}]^3$')\n",
    "# ax.plot.legend(fontsize='16',ncol=1,loc='upper left')\n",
    "plt.savefig('Mass_definition.pdf')\n",
    "# ax.plot.tight_layout()"
   ]
  },
  {
   "cell_type": "markdown",
   "metadata": {},
   "source": [
    "# Halo discussion"
   ]
  },
  {
   "cell_type": "code",
   "execution_count": 8,
   "metadata": {
    "ExecuteTime": {
     "end_time": "2021-09-07T16:54:55.329334Z",
     "start_time": "2021-09-07T16:54:55.265065Z"
    }
   },
   "outputs": [],
   "source": [
    "def nested_dict(n, type):\n",
    "    if n == 1:\n",
    "        return defaultdict(type)\n",
    "    else:\n",
    "        return defaultdict(lambda: nested_dict(n-1, type))\n",
    "    \n",
    "data = nested_dict(3, list)\n",
    "class_data = nested_dict(3, list)\n",
    "HMF = nested_dict(2, list)\n",
    "HMF2 = nested_dict(2, list)\n"
   ]
  },
  {
   "cell_type": "markdown",
   "metadata": {},
   "source": [
    "## Data"
   ]
  },
  {
   "cell_type": "code",
   "execution_count": 9,
   "metadata": {
    "ExecuteTime": {
     "end_time": "2021-09-07T16:57:17.227529Z",
     "start_time": "2021-09-07T16:55:04.749465Z"
    }
   },
   "outputs": [],
   "source": [
    "directory_halo = \"/Users/farbod/Dropbox/Projects/Doppler_RSD/Data/Halos_snapshots_Box/\"\n",
    "\n",
    "files=[\"gevolution_boxsize_4032_ngrid_4608_lcdm_05062020\",\n",
    "       \"gevolution_boxsize_4032_ngrid_4608_w_0m9_cs2_1_05062020\",\n",
    "       \"kevolution_boxsize_4032_ngrid_4608_w_0m9_cs2_em4_05062020\",\n",
    "       \"gevolution_boxsize_4032_ngrid_4608_w_0m9_cs2_em7_05062020\",\n",
    "        \"kevolution_boxsize_4032_ngrid_4608_w_0m9_cs2_em7_05062020\"];\n",
    "\n",
    "# redshifts = [\"3\", \"2\", \"1\", \"0.5\", \"0\"];\n",
    "redshifts = [\"0\"];\n",
    "\n",
    "files_list = ['gev_lcdm','gev_em0','kev_em4','gev_em7','kev_em7'];\n",
    "\n",
    "\n",
    "\n",
    "redshift_range=1\n",
    "for j in range(1): # file\n",
    "    for i in range(redshift_range): # redshift\n",
    "#         data['halo'][files_list[j]]['z='+str(redshifts[i])]=np.loadtxt(directory_halo+files[j]+\"/output/halos_snapshot/out_\"+str(i)+\".list\");\n",
    "        data['halo'][files_list[j]]['z='+str(redshifts[i])]=np.loadtxt(directory_halo+files[j]+\"/output/halos_snapshot/out_\"+str(4)+\".list\");\n",
    "\n"
   ]
  },
  {
   "cell_type": "markdown",
   "metadata": {},
   "source": [
    "## CLASS"
   ]
  },
  {
   "cell_type": "code",
   "execution_count": 10,
   "metadata": {
    "ExecuteTime": {
     "end_time": "2021-09-07T16:57:17.681597Z",
     "start_time": "2021-09-07T16:57:17.229322Z"
    },
    "scrolled": true
   },
   "outputs": [],
   "source": [
    "#############    \n",
    "### CLASS ###\n",
    "#############\n",
    "directory_class = \"/Users/farbod/Dropbox/Projects/Doppler_RSD/Data/CLASS_powers/\"\n",
    "files_list_class = ['lcdm','cs2_1','cs2_e4','cs2_e7'];\n",
    "redshifts_class = [100, 50, 30, 10, 4, 3, 2.5, 2, 1.5, 1, 0.75, 0.5, 0.25, 0.1, 0];\n",
    "# CLASS data loading:\n",
    "for j in range(4):\n",
    "    \n",
    "    class_data['bg'][files_list_class[j]]=np.loadtxt(directory_class+files_list_class[j]+\"/background.dat\");\n",
    "    for i in range(np.shape(redshifts_class)[0]): # redshift\n",
    "        class_data['power_cb_lin'][files_list_class[j]]['z='+str(redshifts_class[i])]=np.loadtxt(directory_class+files_list_class[j]+\"/z\"+str(i+1)+\"_pk_cb.dat\");\n",
    "        class_data['power_cb_nl'][files_list_class[j]]['z='+str(redshifts_class[i])]=np.loadtxt(directory_class+files_list_class[j]+\"/z\"+str(i+1)+\"_pk_cb_nl.dat\");\n",
    "        class_data['tk'][files_list_class[j]]['z='+str(redshifts_class[i])]=np.loadtxt(directory_class+files_list_class[j]+\"/z\"+str(i+1)+\"_tk.dat\")\n",
    "\n",
    "# CLASS conversion :\n",
    "k_pivot = 0.05\n",
    "A_s = 2.1e-9\n",
    "n_s = 0.96\n",
    "h = 0.67\n",
    "k_class = class_data['tk'][files_list_class[0]][\"z=0\"][:,0]\n",
    "conversion = A_s*(k_class*h/k_pivot)**(n_s-1)*(2.*np.pi**2/(k_class**3));\n"
   ]
  },
  {
   "cell_type": "code",
   "execution_count": 178,
   "metadata": {},
   "outputs": [],
   "source": [
    "# h = 0.67\n",
    "# # Pk=k**3/(2.*np.pi**2)*Pk\n",
    "# OmegaM = (0.121203 + 0.021996)/h/h\n",
    "# OmegaM"
   ]
  },
  {
   "cell_type": "markdown",
   "metadata": {},
   "source": [
    "# Tinker Halo mass function and Halo data"
   ]
  },
  {
   "cell_type": "code",
   "execution_count": 11,
   "metadata": {
    "ExecuteTime": {
     "end_time": "2021-09-07T16:58:33.414811Z",
     "start_time": "2021-09-07T16:57:17.684076Z"
    },
    "scrolled": false
   },
   "outputs": [
    {
     "name": "stdout",
     "output_type": "stream",
     "text": [
      "Delta= 200.0\n",
      "A= 0.186\n",
      "a= 1.47\n",
      "b= 2.57\n",
      "c= 1.19\n"
     ]
    }
   ],
   "source": [
    "import numpy as np\n",
    "import mass_function_library as MFL\n",
    "\n",
    "# halo mass function parameters\n",
    "# j=0;i=0;\n",
    "files_list_class = ['lcdm','cs2_1','cs2_e4','cs2_e7'];\n",
    "HMF = nested_dict(4, list)\n",
    "\n",
    "M_min = 13.2\n",
    "M_max = 15.6\n",
    "num = 100\n",
    "\n",
    "names = ['ST','Tinker','Tinker10']\n",
    "\n",
    "# for i in [0,1,2,3]: # file\n",
    "for i in [0]: # file\n",
    "\n",
    "# for i in [0]: # file\n",
    "    for j in [0]: # Redshifts\n",
    "        Pk =  class_data['power_cb_lin'][files_list_class[i]]['z=0'][:,1]  #file with linear Pk\n",
    "        k =  class_data['power_cb_lin'][files_list_class[i]]['z=0'][:,0]  #file with linear Pk\n",
    "        # Pk=k**3/(2.*np.pi**2)*Pk\n",
    "        OmegaM = 0.320403\n",
    "        Masses = np.logspace(M_min, M_max, num) #array with halo masses\n",
    "        bins   = 10000  #number of bins to use for Pk\n",
    "        z      = 0.0    #redshift; only used for Tinker, Tinker10 and Crocce\n",
    "        delta  = 200.0  #overdensity; only for Tinker and Tinker10\n",
    "        # read linear matter Pk\n",
    "\n",
    "        # compute halo mass function\n",
    "        for author in names:\n",
    "            HMF_data = MFL.MF_theory(k, Pk, OmegaM, Masses, author, bins, z, delta)\n",
    "            HMF[author]['dNdlogM'][files_list_class[i]]['z=0'] = HMF_data;\n",
    "        \n",
    " \n"
   ]
  },
  {
   "cell_type": "markdown",
   "metadata": {},
   "source": [
    "# Data"
   ]
  },
  {
   "cell_type": "code",
   "execution_count": 21,
   "metadata": {
    "ExecuteTime": {
     "end_time": "2021-09-07T17:01:24.377092Z",
     "start_time": "2021-09-07T17:01:24.374518Z"
    }
   },
   "outputs": [],
   "source": [
    "HMF2 = nested_dict(4, list)\n"
   ]
  },
  {
   "cell_type": "code",
   "execution_count": 22,
   "metadata": {
    "ExecuteTime": {
     "end_time": "2021-09-07T17:01:25.585537Z",
     "start_time": "2021-09-07T17:01:24.563181Z"
    }
   },
   "outputs": [],
   "source": [
    "nbins = 110;\n",
    "for i in [0]: # file\n",
    "# for i in [0]: # file\n",
    "    for j in [0]: # Redshifts\n",
    "        redshift =\"z=\"+str(j);\n",
    "        x=data['halo'][files_list[i]][redshift][:,20];\n",
    "        HMF['sim']['count'][files_list[i]][redshift] = np.histogram(np.log10(x), bins=nbins)[0]\n",
    "        HMF['sim']['bin_edges'][files_list[i]][redshift] = np.histogram(np.log10(x), bins=nbins)[1]\n",
    "        HMF['sim']['deltaM'][files_list[i]][redshift]= HMF['sim']['bin_edges'][files_list[i]][redshift][2]- HMF['sim']['bin_edges'][files_list[i]][redshift][1];\n",
    "\n",
    "        redshift =\"z=\"+str(j);\n",
    "        x=data['halo'][files_list[i]][redshift][:,19];\n",
    "        HMF2['sim']['count'][files_list[i]][redshift] = np.histogram(np.log10(x), bins=nbins)[0]\n",
    "        HMF2['sim']['bin_edges'][files_list[i]][redshift] = np.histogram(np.log10(x), bins=nbins)[1]\n",
    "        HMF2['sim']['deltaM'][files_list[i]][redshift]= HMF['sim']['bin_edges'][files_list[i]][redshift][2]- HMF['sim']['bin_edges'][files_list[i]][redshift][1];\n"
   ]
  },
  {
   "cell_type": "markdown",
   "metadata": {},
   "source": [
    "# $\\Delta$M is constant"
   ]
  },
  {
   "cell_type": "code",
   "execution_count": 50,
   "metadata": {},
   "outputs": [],
   "source": [
    "# roll(HMF['sim']['bin_edges'][files_list[i]][redshift],-1)-HMF['sim']['bin_edges'][files_list[i]][redshift]\n",
    "# HMF['sim']['bin_edges'][files_list[i]][redshift][2]- HMF['sim']['bin_edges'][files_list[i]][redshift][1]"
   ]
  },
  {
   "cell_type": "markdown",
   "metadata": {},
   "source": [
    "# Halos "
   ]
  },
  {
   "cell_type": "code",
   "execution_count": 30,
   "metadata": {
    "ExecuteTime": {
     "end_time": "2021-09-07T17:03:35.647967Z",
     "start_time": "2021-09-07T17:03:33.877163Z"
    },
    "scrolled": false
   },
   "outputs": [
    {
     "data": {
      "image/png": "[encoded data removed]",
      "text/plain": [
       "<Figure size 1296x792 with 1 Axes>"
      ]
     },
     "metadata": {
      "needs_background": "light"
     },
     "output_type": "display_data"
    }
   ],
   "source": [
    "%matplotlib inline\n",
    "import matplotlib as mpl\n",
    "label_size = 34\n",
    "mpl.rcParams['xtick.labelsize'] = label_size\n",
    "mpl.rcParams['ytick.labelsize'] = label_size\n",
    "fig = matplotlib.pyplot.gcf()\n",
    "fig.set_size_inches(18, 11)\n",
    "plt.rc('text', usetex=True)\n",
    "font = {'family' : 'normal',\n",
    "        'weight' : 'bold',\n",
    "        'size'   : text_size}\n",
    "matplotlib.rc('font', **font)\n",
    "\n",
    "redshifts = [\"0\"];\n",
    "files_list = ['gev_lcdm','gev_em0','gev_em7','kev_em4','kev_em7'];\n",
    "decrip = [\"$\\Lambda$CDM, \",\"$w$CDM ($w=-0.9, c_s^2=1$), \", \"$w$CDM ($w=-0.9, c_s^2=10^{-4}$), \",\n",
    "          \"$w$CDM-gev ($w=-0.9, c_s^2=10^{-7}$), \",\n",
    "          \"$w$CDM-kev ($w=-0.9, c_s^2=10^{-7}$), \"]\n",
    "l=0\n",
    "boxsize=4032;\n",
    "# for i in [0,1,2,3]: # file\n",
    "names = ['Tinker','Tinker10']\n",
    "for i in [0]: # file\n",
    "\n",
    "# for i in [0]: # file\n",
    "    for j in [0]: # Redshifts\n",
    "        redshift =\"z=\"+str(j);\n",
    "        # compute halo mass function\n",
    "        for author in names:\n",
    "            plt.plot(log10(Masses),HMF[author]['dNdlogM'][files_list_class[i]]['z=0'],lw=2,color=Colors[l],label=author)  # density=False would make counts\n",
    "            l+=1\n",
    "        redshift =\"z=\"+str(j);\n",
    "        bin_edges = HMF['sim']['bin_edges'][files_list[i]][redshift]\n",
    "        counts = HMF['sim']['count'][files_list[i]][redshift]\n",
    "#         plt.plot(bin_edges[:-1],counts,\"o\",color=Colors[l], label =decrip[i]+redshift)\n",
    "#         plt.errorbar(bin_edges[:-1],counts, yerr=np.sqrt(counts), fmt=\"o\",label =decrip[i]+redshift)\n",
    "        deltaM = HMF['sim']['deltaM'][files_list[i]][redshift]\n",
    "        counts = HMF['sim']['count'][files_list[i]][redshift]\n",
    "#         plt.semilogy(bin_edges[:-1],counts/(10**bin_edges[:-1]*(10**deltaM - 1))/boxsize**3,\"bo\", label =decrip[i]+redshift+ \", Data\" )\n",
    "        plt.semilogy(bin_edges[:-1],counts/((10**(roll(bin_edges[:],-1)) -10**bin_edges[:])[:-1])/boxsize**3,\"o\", label =decrip[i]+redshift+ \", $M_{200}$b\" )\n",
    "\n",
    "        redshift =\"z=\"+str(j);\n",
    "        bin_edges = HMF2['sim']['bin_edges'][files_list[i]][redshift]\n",
    "        counts = HMF2['sim']['count'][files_list[i]][redshift]\n",
    "#         plt.plot(bin_edges[:-1],counts,\"o\",color=Colors[l], label =decrip[i]+redshift)\n",
    "#         plt.errorbar(bin_edges[:-1],counts, yerr=np.sqrt(counts), fmt=\"o\",label =decrip[i]+redshift)\n",
    "        deltaM = HMF2['sim']['deltaM'][files_list[i]][redshift]\n",
    "        counts = HMF2['sim']['count'][files_list[i]][redshift]\n",
    "#         plt.semilogy(bin_edges[:-1],counts/(10**bin_edges[:-1]*(10**deltaM - 1))/boxsize**3,\"bo\", label =decrip[i]+redshift+ \", Data\" )\n",
    "        plt.semilogy(bin_edges[:-1],counts/((10**(roll(bin_edges[:],-1)) -10**bin_edges[:])[:-1])/boxsize**3,\"o\", label =decrip[i]+redshift+ r\", $M_{vir-all}$\" )\n",
    "\n",
    "    #         plt.title('Halo mass function')\n",
    "        plt.ylabel(r'$dn/dM$ [Mpc/h]$^{-3}$',fontsize=32)\n",
    "        plt.xlabel(r'$M[log M_{\\odot} \\; h^{-1}$]',fontsize=32)\n",
    "        plt.yscale('log')\n",
    "        plt.legend(fontsize=28,bbox_to_anchor=[0.38,0.25],loc=\"center\",frameon=False)\n",
    "\n",
    "        l=l+1\n",
    "        \n",
    "\n",
    "plt.show()\n"
   ]
  },
  {
   "cell_type": "code",
   "execution_count": null,
   "metadata": {},
   "outputs": [],
   "source": []
  }
 ],
 "metadata": {
  "anaconda-cloud": {},
  "kernelspec": {
   "display_name": "Python 3",
   "language": "python",
   "name": "python3"
  },
  "language_info": {
   "codemirror_mode": {
    "name": "ipython",
    "version": 3
   },
   "file_extension": ".py",
   "mimetype": "text/x-python",
   "name": "python",
   "nbconvert_exporter": "python",
   "pygments_lexer": "ipython3",
   "version": "3.7.4"
  },
  "toc": {
   "base_numbering": 1,
   "nav_menu": {},
   "number_sections": true,
   "sideBar": true,
   "skip_h1_title": false,
   "title_cell": "Table of Contents",
   "title_sidebar": "Contents",
   "toc_cell": false,
   "toc_position": {
    "height": "calc(100% - 180px)",
    "left": "10px",
    "top": "150px",
    "width": "426.667px"
   },
   "toc_section_display": true,
   "toc_window_display": true
  }
 },
 "nbformat": 4,
 "nbformat_minor": 2
}
