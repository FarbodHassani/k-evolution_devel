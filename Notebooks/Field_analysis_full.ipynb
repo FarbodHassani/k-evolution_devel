{
 "cells": [
  {
   "cell_type": "markdown",
   "metadata": {},
   "source": [
    "# Second order k-essence vs k-evolution"
   ]
  },
  {
   "cell_type": "code",
   "execution_count": 1,
   "metadata": {
    "ExecuteTime": {
     "end_time": "2021-06-28T06:58:04.236952Z",
     "start_time": "2021-06-28T06:57:28.749424Z"
    }
   },
   "outputs": [],
   "source": [
    "import numpy as np\n",
    "import matplotlib.pylab as plt\n",
    "from scipy.interpolate import interp1d\n",
    "from pylab import rcParams\n",
    "import scipy.integrate as integrate\n",
    "import h5py\n",
    "from mayavi import mlab\n",
    "\n",
    "# from readgadget import *\n",
    "# from pygadgetreader import *\n",
    "ColorsI = [\"red\",\"blue\",\"green\",\"purple\",\"darkcyan\",\"gold\",\"maroon\",\"black\",\"darkslategrey\",\n",
    "           \"darkgreen\",\"navy\",\"indigo\",\"magenta\",\"salmon\",\"dodgerblue\",\"springgreen\",\"plum\",\n",
    "           \"cyan\",\"khaki\",\"lightcoral\",\"gray\"]\n",
    "ColorsII = []\n",
    "\n",
    "NUM_COLORS = 20\n",
    "from matplotlib.colors import LogNorm\n",
    "\n",
    "cm = plt.get_cmap('gist_rainbow')\n",
    "# plt.style.use('seaborn-paper')\n",
    "plt.rcParams['font.serif'] = 'Ubuntu'\n",
    "from matplotlib import colors, ticker, cm\n",
    "from mpl_toolkits.axes_grid1 import make_axes_locatable\n",
    "\n",
    "from mpl_toolkits.mplot3d import Axes3D\n",
    "from collections import defaultdict\n",
    "\n",
    "text_size=26\n",
    "fig_size_x=24\n",
    "fig_size_y=14"
   ]
  },
  {
   "cell_type": "markdown",
   "metadata": {},
   "source": [
    "# Nested dictionary"
   ]
  },
  {
   "cell_type": "code",
   "execution_count": 2,
   "metadata": {
    "ExecuteTime": {
     "end_time": "2021-06-28T06:58:04.250487Z",
     "start_time": "2021-06-28T06:58:04.242321Z"
    }
   },
   "outputs": [],
   "source": [
    "def nested_dict(n, type):\n",
    "    if n == 1:\n",
    "        return defaultdict(type)\n",
    "    else:\n",
    "        return defaultdict(lambda: nested_dict(n-1, type))\n",
    "snaps = nested_dict(5, list)\n",
    "data_txt = nested_dict(1, list)"
   ]
  },
  {
   "cell_type": "markdown",
   "metadata": {},
   "source": [
    "## Background"
   ]
  },
  {
   "cell_type": "code",
   "execution_count": 3,
   "metadata": {
    "ExecuteTime": {
     "end_time": "2021-06-28T06:58:04.275460Z",
     "start_time": "2021-06-28T06:58:04.255994Z"
    }
   },
   "outputs": [],
   "source": [
    "As=2.215*1.e-9;\n",
    "h=0.67556;\n",
    "kp=0.05/h; \n",
    "ns=0.9619;\n",
    "cs2_e3=1.e-7;\n",
    "c=2.99792458*1.e5; #Km/s\n",
    "Boxsize=300.;\n",
    "# c_gev=2997.92458; #[100km/s]\n",
    "H0_conf_Gev=0.11117550483538947#np.sqrt(Boxsize**2/c**2); #0.10677 rho_crit in Gev=1\n",
    "# we obtain 0.11 from gevolution!\n",
    "\n",
    "# H0=100*h/c; #H0 in 1/Mpc unit. 0.00022593979933110373\n",
    "# print(\"H0[1/Mpc]=100h/c: \",H0);\n",
    "w=-0.9;\n",
    "# print(\"H0[1/Mpc]=100h/c: \",H0);\n",
    "def Hubble_conf_Mpc(a):\n",
    "    c=2.99792458*1.e5;h=0.67556;H0=100*h/c;w=-0.9;\n",
    "    Omega_b=0.022032/h/h; Omega_cdm=0.12038/h/h;\n",
    "    Omega_m=Omega_b+Omega_cdm; Omega_Lambda=0;\n",
    "    Omega_rad=9.1671353942930788e-05; Omega_kessence=1.-Omega_m-Omega_rad;\n",
    "    return H0_conf_Gev*np.sqrt(Omega_m*(a**-3)+Omega_rad*(a**-4)+Omega_kessence*(a**(-3*(1+w))))\n",
    "Omega_b=0.022032/h/h; Omega_cdm=0.12038/h/h;\n",
    "Omega_m=Omega_b + Omega_cdm;"
   ]
  },
  {
   "cell_type": "markdown",
   "metadata": {},
   "source": [
    "#  Loading HDF5 files for pi and zeta + the Blowup snapshots"
   ]
  },
  {
   "cell_type": "code",
   "execution_count": 45,
   "metadata": {
    "ExecuteTime": {
     "end_time": "2021-06-28T07:30:56.061794Z",
     "start_time": "2021-06-28T07:30:56.048806Z"
    }
   },
   "outputs": [],
   "source": [
    "\n",
    "\n",
    "files_list = ['L400-N64-dtau-0d01.txt'];\n",
    "# files_list += ['L1000-N64-dtau-0d01.txt'];\n",
    "\n",
    "for j in range(np.shape(files_list)[0]):\n",
    "    data_txt[files_list[j]] = np.loadtxt(\"./Avg_outputs//\"+files_list[j])\n",
    "        "
   ]
  },
  {
   "cell_type": "code",
   "execution_count": null,
   "metadata": {},
   "outputs": [],
   "source": []
  },
  {
   "cell_type": "code",
   "execution_count": 46,
   "metadata": {
    "ExecuteTime": {
     "end_time": "2021-06-28T07:30:58.462274Z",
     "start_time": "2021-06-28T07:30:57.950486Z"
    }
   },
   "outputs": [
    {
     "data": {
      "text/plain": [
       "<matplotlib.legend.Legend at 0x7fb940a80c10>"
      ]
     },
     "execution_count": 46,
     "metadata": {},
     "output_type": "execute_result"
    },
    {
     "data": {
      "image/png": "[encoded data removed]",
      "text/plain": [
       "<Figure size 1152x720 with 1 Axes>"
      ]
     },
     "metadata": {
      "needs_background": "light"
     },
     "output_type": "display_data"
    }
   ],
   "source": [
    "plt.figure(figsize=(16,10))\n",
    "plt.rc('text', usetex=True)\n",
    "font = {'family' : 'normal',\n",
    "        'weight' : 'bold',\n",
    "        'size'   : text_size}\n",
    "plt.rc('font', **font)\n",
    "\n",
    "for j in range(np.shape(files_list)[0]):\n",
    "\n",
    "    x = data_txt[files_list[j]][:,5]\n",
    "    y = data_txt[files_list[j]][:,1]\n",
    "    plt.plot(1+x,(y),\"o\",label=r\"$\\langle H \\pi \\rangle$, L400-N64-dtau-0d01\")\n",
    "    \n",
    "    x = data_txt[files_list[j]][:,5]\n",
    "    y = data_txt[files_list[j]][:,3]\n",
    "    plt.plot(1+x,np.abs(y),\"o\",label=r\"Det, L400-N64-dtau-0d01\")\n",
    "\n",
    "\n",
    "plt.ylim(1.e-25, 1.e16 )\n",
    "plt.yscale('log')\n",
    "plt.legend(fontsize=20)\n",
    "# plt.ylabel(r\"$\\langle \\mathcal{H} \\pi \\rangle^2$\")\n",
    "# plt.xlabel(r\"$1+z$\")\n",
    "# plt.xlim(1,10)\n",
    "# plt.xscale('log')\n",
    "# plt.title(r\" k-essence$\")\n",
    "\n",
    "\n"
   ]
  },
  {
   "cell_type": "code",
   "execution_count": 42,
   "metadata": {
    "ExecuteTime": {
     "end_time": "2021-06-28T07:26:46.512923Z",
     "start_time": "2021-06-28T07:26:46.500246Z"
    }
   },
   "outputs": [],
   "source": [
    "# plt.figure(figsize=(16,10))\n",
    "# plt.rc('text', usetex=True)\n",
    "# font = {'family' : 'normal',\n",
    "#         'weight' : 'bold',\n",
    "#         'size'   : text_size}\n",
    "# plt.rc('font', **font)\n",
    "\n",
    "# x = data_txt['L_25'][:,4]\n",
    "# y = data_txt['L_25'][:,1]**2\n",
    "\n",
    "# x2 = data_txt['L_25_kev'][:,4]\n",
    "# y2 = data_txt['L_25_kev'][:,1]**2\n",
    "# # plt.semilogy(1+x,y,\"o\",label=\" L=25 Mpc/h, $N_{grid} = 64^3$\")\n",
    "# plt.semilogy(1+x2[:326],(y2[:326]-y[:326])/y[:326],\"-\",label=\"$k$-evolution vs second order k-essence, L=25 Mpc/h, $N_{grid} = 64^3$\")\n",
    "\n",
    "\n",
    "# # x = data_txt['L_50'][:,4]\n",
    "# # y = data_txt['L_50'][:,1]**2\n",
    "# # plt.semilogy(1+x,y,\"o\",label=\"L=50 Mpc/h, $N_{grid} = 64^3$\")\n",
    "\n",
    "# # x = data_txt['L_100'][:,4]\n",
    "# # y = data_txt['L_100'][:,1]**2\n",
    "# # plt.semilogy(1+x,y,\"o\",label=\"L=100 Mpc/h, $N_{grid} = 64^3$\")\n",
    "\n",
    "# # x = data_txt['L_200'][:,4]\n",
    "# # y = data_txt['L_200'][:,1]**2\n",
    "# # plt.semilogy(1+x,y,\"o\",label=\"L=200 Mpc/h, $N_{grid} = 64^3$\")\n",
    "\n",
    "# # x = data_txt['L_300'][:,4]\n",
    "# # y = data_txt['L_300'][:,1]**2\n",
    "# # plt.semilogy(1+x,y,\"o\",label=\"L=300 Mpc/h, $N_{grid} = 64^3$\")\n",
    "# # plt.ylim(1.e-16, 5.e-15 )\n",
    "\n",
    "# plt.legend(fontsize=20)\n",
    "# plt.ylabel(r\"$ \\Delta\\langle \\mathcal{H} \\pi \\rangle^2$\")\n",
    "# plt.xlabel(r\"$1+z$\")\n",
    "# plt.xlim(1,10)\n",
    "# # plt.xscale('log')\n",
    "# plt.title(r\"Second-order k-essence vs k-evolution, $c_s^2 = 10^{-8}, w=-0.9$\")\n",
    "\n",
    "\n"
   ]
  },
  {
   "cell_type": "code",
   "execution_count": null,
   "metadata": {},
   "outputs": [],
   "source": []
  }
 ],
 "metadata": {
  "anaconda-cloud": {},
  "kernelspec": {
   "display_name": "Python 2",
   "language": "python",
   "name": "python2"
  },
  "language_info": {
   "codemirror_mode": {
    "name": "ipython",
    "version": 2
   },
   "file_extension": ".py",
   "mimetype": "text/x-python",
   "name": "python",
   "nbconvert_exporter": "python",
   "pygments_lexer": "ipython2",
   "version": "2.7.14"
  },
  "toc": {
   "base_numbering": 1,
   "nav_menu": {},
   "number_sections": true,
   "sideBar": true,
   "skip_h1_title": false,
   "title_cell": "Table of Contents",
   "title_sidebar": "Contents",
   "toc_cell": false,
   "toc_position": {},
   "toc_section_display": true,
   "toc_window_display": false
  }
 },
 "nbformat": 4,
 "nbformat_minor": 1
}
