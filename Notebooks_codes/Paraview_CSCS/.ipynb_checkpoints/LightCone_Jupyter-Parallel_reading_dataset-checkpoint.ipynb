{
 "cells": [
  {
   "cell_type": "raw",
   "metadata": {},
   "source": [
    "# ParaView LightCone Reader Minimal Test\n",
    "# Created by Jean M. Favre, August 16, 2021\n",
    "# tested with ParaView-EGL v 5.9"
   ]
  },
  {
   "cell_type": "code",
   "execution_count": 2,
   "metadata": {},
   "outputs": [],
   "source": [
    "from paraview.simple import *\n",
    "from paraview.selection import *"
   ]
  },
  {
   "cell_type": "markdown",
   "metadata": {},
   "source": [
    "Using a terminal on this node, we request a new allocation:\n",
    "\n",
    "salloc -N 64 -n 64-A csstaff -C gpu --time=00:15:00\n",
    "\n",
    "salloc: Granted job allocation 30807331 salloc: Waiting for resource configuration salloc: Nodes nid0[3508-3511] are ready for job\n",
    "\n",
    "We *first* run pvserver on the newly allocated nodes\n",
    "\n",
    "srun pvserver\n",
    "\n",
    "The jupyter client must connect to the first MPI task on the new allocation, i.e. connect to the first node"
   ]
  },
  {
   "cell_type": "code",
   "execution_count": 3,
   "metadata": {},
   "outputs": [
    {
     "data": {
      "text/plain": [
       "Connection (cs://nid01980:11111) [2]"
      ]
     },
     "execution_count": 3,
     "metadata": {},
     "output_type": "execute_result"
    }
   ],
   "source": [
    "Connect(\"nid01980\")"
   ]
  },
  {
   "cell_type": "code",
   "execution_count": 4,
   "metadata": {},
   "outputs": [],
   "source": [
    "LoadPlugin(\"/users/jfavre/Projects/Adamek/ParaViewLightConePlugin/build59/lib64/paraview-5.9/plugins/pvLightConeReader/pvLightConeReader.so\", ns=globals())"
   ]
  },
  {
   "cell_type": "code",
   "execution_count": 5,
   "metadata": {},
   "outputs": [],
   "source": [
    "renderView1 = GetRenderView()\n",
    "\n",
    "reader = LightConeSeriesReader(FileNames=['/scratch/snx3000/farbodh/Gadget2_snapshot/output_redist/lcdm_Mn0d13_gevolution_snap000_cdm_redist.0'])\n",
    "reader.PointArrayStatus = ['velocity']\n",
    "reader.UpdatePipelineInformation()"
   ]
  },
  {
   "cell_type": "code",
   "execution_count": 6,
   "metadata": {},
   "outputs": [],
   "source": [
    "reader.DistributedSnapshot = 0 # to read a single file (you should be able to run on the single node already allocated)\n",
    "reader.DistributedSnapshot = 1 # to read all files (you must do a second node allocation"
   ]
  },
  {
   "cell_type": "code",
   "execution_count": 7,
   "metadata": {},
   "outputs": [],
   "source": [
    "reader.UpdatePipeline()"
   ]
  },
  {
   "cell_type": "code",
   "execution_count": 8,
   "metadata": {},
   "outputs": [
    {
     "data": {
      "application/vnd.jupyter.widget-view+json": {
       "model_id": "9c73f9eb150a42dcb73f386e9bcfdd00",
       "version_major": 2,
       "version_minor": 0
      },
      "text/plain": [
       "PVDisplay(resolution=(400, 400))"
      ]
     },
     "metadata": {},
     "output_type": "display_data"
    }
   ],
   "source": [
    "from ipyparaview.widgets import PVDisplay\n",
    "disp = PVDisplay(GetActiveView())\n",
    "w = display(disp)"
   ]
  },
  {
   "cell_type": "code",
   "execution_count": 9,
   "metadata": {},
   "outputs": [],
   "source": [
    "clip1 = Clip(Input=reader)\n",
    "clip1.ClipType = 'Sphere'\n",
    "clip1.ClipType.Center = [600000.0, 600000.0, 600000.0]\n",
    "clip1.ClipType.Radius = 200000.0"
   ]
  },
  {
   "cell_type": "code",
   "execution_count": 10,
   "metadata": {},
   "outputs": [],
   "source": [
    "repr2 = Show(clip1)\n",
    "\n",
    "repr2.Representation = 'Points'\n",
    "ColorBy(repr2, ('POINTS', 'velocity', 'Magnitude'))\n",
    "ResetCamera()"
   ]
  },
  {
   "cell_type": "code",
   "execution_count": 11,
   "metadata": {},
   "outputs": [],
   "source": [
    "Disconnect()"
   ]
  },
  {
   "cell_type": "code",
   "execution_count": 1,
   "metadata": {
    "ExecuteTime": {
     "end_time": "2021-08-17T14:05:36.600334Z",
     "start_time": "2021-08-17T14:05:36.597970Z"
    }
   },
   "outputs": [],
   "source": [
    "# We can d the same thing using python script and srun \n",
    "# https://user.cscs.ch/computing/visualisation/paraview/#interactive-mode-with-a-client-server-connection"
   ]
  },
  {
   "cell_type": "code",
   "execution_count": null,
   "metadata": {},
   "outputs": [],
   "source": []
  }
 ],
 "metadata": {
  "kernelspec": {
   "display_name": "Python 3",
   "language": "python",
   "name": "python3"
  },
  "language_info": {
   "codemirror_mode": {
    "name": "ipython",
    "version": 3
   },
   "file_extension": ".py",
   "mimetype": "text/x-python",
   "name": "python",
   "nbconvert_exporter": "python",
   "pygments_lexer": "ipython3",
   "version": "3.7.4"
  },
  "toc": {
   "base_numbering": 1,
   "nav_menu": {},
   "number_sections": true,
   "sideBar": true,
   "skip_h1_title": false,
   "title_cell": "Table of Contents",
   "title_sidebar": "Contents",
   "toc_cell": false,
   "toc_position": {},
   "toc_section_display": true,
   "toc_window_display": false
  }
 },
 "nbformat": 4,
 "nbformat_minor": 4
}
