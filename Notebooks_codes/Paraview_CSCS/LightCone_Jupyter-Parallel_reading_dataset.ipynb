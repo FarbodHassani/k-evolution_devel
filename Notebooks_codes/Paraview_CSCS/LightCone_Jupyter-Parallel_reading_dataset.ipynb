{
 "cells": [
  {
   "cell_type": "raw",
   "metadata": {},
   "source": [
    "# ParaView LightCone Reader Minimal Test\n",
    "# Created by Jean M. Favre, August 16, 2021\n",
    "# tested with ParaView-EGL v 5.9"
   ]
  },
  {
   "cell_type": "code",
   "execution_count": 2,
   "metadata": {
    "ExecuteTime": {
     "end_time": "2021-08-17T14:42:45.070220Z",
     "start_time": "2021-08-17T14:42:44.984413Z"
    }
   },
   "outputs": [
    {
     "ename": "ModuleNotFoundError",
     "evalue": "No module named 'paraview'",
     "output_type": "error",
     "traceback": [
      "\u001b[0;31m---------------------------------------------------------------------------\u001b[0m",
      "\u001b[0;31mModuleNotFoundError\u001b[0m                       Traceback (most recent call last)",
      "\u001b[0;32m<ipython-input-2-c6fc4eba78fd>\u001b[0m in \u001b[0;36m<module>\u001b[0;34m\u001b[0m\n\u001b[1;32m      1\u001b[0m \u001b[0;31m#### import the simple module from the paraview\u001b[0m\u001b[0;34m\u001b[0m\u001b[0;34m\u001b[0m\u001b[0;34m\u001b[0m\u001b[0m\n\u001b[0;32m----> 2\u001b[0;31m \u001b[0;32mfrom\u001b[0m \u001b[0mparaview\u001b[0m\u001b[0;34m.\u001b[0m\u001b[0msimple\u001b[0m \u001b[0;32mimport\u001b[0m \u001b[0;34m*\u001b[0m\u001b[0;34m\u001b[0m\u001b[0;34m\u001b[0m\u001b[0m\n\u001b[0m\u001b[1;32m      3\u001b[0m \u001b[0;31m#### disable automatic camera reset on 'Show'\u001b[0m\u001b[0;34m\u001b[0m\u001b[0;34m\u001b[0m\u001b[0;34m\u001b[0m\u001b[0m\n\u001b[1;32m      4\u001b[0m \u001b[0mparaview\u001b[0m\u001b[0;34m.\u001b[0m\u001b[0msimple\u001b[0m\u001b[0;34m.\u001b[0m\u001b[0m_DisableFirstRenderCameraReset\u001b[0m\u001b[0;34m(\u001b[0m\u001b[0;34m)\u001b[0m\u001b[0;34m\u001b[0m\u001b[0;34m\u001b[0m\u001b[0m\n",
      "\u001b[0;31mModuleNotFoundError\u001b[0m: No module named 'paraview'"
     ]
    }
   ],
   "source": [
    "#### import the simple module from the paraview\n",
    "from paraview.simple import *\n",
    "#### disable automatic camera reset on 'Show'\n",
    "paraview.simple._DisableFirstRenderCameraReset()"
   ]
  },
  {
   "cell_type": "code",
   "execution_count": 2,
   "metadata": {},
   "outputs": [],
   "source": [
    "\n",
    "\n",
    "# Create a new 'Render View'\n",
    "renderView1 = GetRenderView()\n",
    "renderView1.Background = [0.3686274509803922]*3\n",
    "\n",
    "fname = '/scratch/snx3000/farbodh/Lightcone_data/LCDM_lightcones/lcdm_lightcone1_0104_cdm'\n",
    "\n",
    "reader = LightConeSeriesReader(registrationName='lcdm_lightcone1', FileNames=[fname])\n",
    "reader.PointArrayStatus = ['velocity', 'id']\n",
    "reader.DistributedSnapshot = 0\n",
    "reader.UpdatePipeline()\n",
    "\n",
    "programmableFilter1 = ProgrammableFilter(registrationName='ProgrammableFilter1', Input=reader)\n",
    "programmableFilter1.OutputDataSetType = 'Same as Input'\n",
    "programmableFilter1.Script = \"\"\"\n",
    "from vtk.vtkCommonDataModel import vtkPolyData\n",
    "from vtk.vtkCommonCore import vtkIdList\n",
    "from vtk.numpy_interface import dataset_adapter as dsa\n",
    "from vtk import VTK_POLY_VERTEX\n",
    "import numpy as np\n",
    "\n",
    "Ratio = 1000\n",
    "\n",
    "def SubSampler(input, output):\n",
    "  my_input = dsa.WrapDataObject(input)\n",
    "  nbpts = input.GetNumberOfPoints()\n",
    "  indices = np.arange(0, nbpts, Ratio)\n",
    "  nnodes = indices.size\n",
    "  print(\"found \", nbpts, \". Extracting \", nnodes)\n",
    "  ptIds = vtkIdList()\n",
    "  ptIds.SetNumberOfIds(nnodes)\n",
    "\n",
    "  my_output = dsa.WrapDataObject(output)\n",
    "  for a in range(nnodes):\n",
    "    ptIds.SetId(a , a)\n",
    "\n",
    "  output.Allocate(1)\n",
    "  output.InsertNextCell(VTK_POLY_VERTEX , ptIds)\n",
    "  my_output.Points = my_input.Points[indices]\n",
    "  my_output.PointData.append(my_input.PointData[\"velocity\"][indices], \"velocity\")\n",
    "  my_output.PointData.append(my_input.PointData[\"id\"][indices], \"id\")\n",
    "  \n",
    "if inputs[0].IsA(\"vtkMultiBlockDataSet\"):\n",
    "    output.CopyStructure(inputs[0].VTKObject)\n",
    "    iter = inputs[0].NewIterator()\n",
    "    iter.UnRegister(None)\n",
    "    iter.InitTraversal()\n",
    "    while not iter.IsDoneWithTraversal():\n",
    "        curInput = iter.GetCurrentDataObject()\n",
    "        curOutput = curInput.NewInstance()\n",
    "        curOutput.UnRegister(None)\n",
    "        output.SetDataSet(iter, curOutput)\n",
    "        SubSampler(curInput, curOutput)\n",
    "        iter.GoToNextItem();\n",
    "else:\n",
    "  SubSampler(input, output)\"\"\"\n",
    "\n",
    "rep1 = Show(programmableFilter1, renderView1, 'GeometryRepresentation')\n",
    "rep1.Representation = 'Points'\n",
    "ColorBy(rep1, ('POINTS', 'velocity', 'Magnitude'))\n",
    "\n",
    "myselect2 = QuerySelect(QueryString=\"mag(velocity) >= 1000.\", Source=reader)\n",
    "sel2     = ExtractSelection(Input=reader)\n",
    "\n",
    "rep2 = Show(sel2, renderView1, 'GeometryRepresentation')\n",
    "rep2.Representation = 'Points'\n",
    "ColorBy(rep2, ('POINTS', 'velocity', 'Magnitude'))\n",
    "\n",
    "ResetCamera()\n",
    "# use the current default object just defined above\n",
    "SaveData(\"/scratch/snx3000/jfavre/clip3.csv\")\n"
   ]
  },
  {
   "cell_type": "markdown",
   "metadata": {},
   "source": [
    "Using a terminal on this node, we request a new allocation:\n",
    "\n",
    "salloc -N 64 -n 64-A csstaff -C gpu --time=00:15:00\n",
    "\n",
    "salloc: Granted job allocation 30807331 salloc: Waiting for resource configuration salloc: Nodes nid0[3508-3511] are ready for job\n",
    "\n",
    "We *first* run pvserver on the newly allocated nodes\n",
    "\n",
    "srun pvserver\n",
    "\n",
    "The jupyter client must connect to the first MPI task on the new allocation, i.e. connect to the first node"
   ]
  },
  {
   "cell_type": "code",
   "execution_count": 3,
   "metadata": {},
   "outputs": [
    {
     "data": {
      "text/plain": [
       "Connection (cs://nid01980:11111) [2]"
      ]
     },
     "execution_count": 3,
     "metadata": {},
     "output_type": "execute_result"
    }
   ],
   "source": [
    "Connect(\"nid01980\")"
   ]
  },
  {
   "cell_type": "code",
   "execution_count": 4,
   "metadata": {},
   "outputs": [],
   "source": [
    "LoadPlugin(\"/users/jfavre/Projects/Adamek/ParaViewLightConePlugin/build59/lib64/paraview-5.9/plugins/pvLightConeReader/pvLightConeReader.so\", ns=globals())"
   ]
  },
  {
   "cell_type": "code",
   "execution_count": 5,
   "metadata": {},
   "outputs": [],
   "source": [
    "renderView1 = GetRenderView()\n",
    "\n",
    "reader = LightConeSeriesReader(FileNames=['/scratch/snx3000/farbodh/Gadget2_snapshot/output_redist/lcdm_Mn0d13_gevolution_snap000_cdm_redist.0'])\n",
    "reader.PointArrayStatus = ['velocity']\n",
    "reader.UpdatePipelineInformation()"
   ]
  },
  {
   "cell_type": "code",
   "execution_count": 6,
   "metadata": {},
   "outputs": [],
   "source": [
    "reader.DistributedSnapshot = 0 # to read a single file (you should be able to run on the single node already allocated)\n",
    "reader.DistributedSnapshot = 1 # to read all files (you must do a second node allocation"
   ]
  },
  {
   "cell_type": "code",
   "execution_count": 7,
   "metadata": {},
   "outputs": [],
   "source": [
    "reader.UpdatePipeline()"
   ]
  },
  {
   "cell_type": "code",
   "execution_count": 8,
   "metadata": {},
   "outputs": [
    {
     "data": {
      "application/vnd.jupyter.widget-view+json": {
       "model_id": "9c73f9eb150a42dcb73f386e9bcfdd00",
       "version_major": 2,
       "version_minor": 0
      },
      "text/plain": [
       "PVDisplay(resolution=(400, 400))"
      ]
     },
     "metadata": {},
     "output_type": "display_data"
    }
   ],
   "source": [
    "from ipyparaview.widgets import PVDisplay\n",
    "disp = PVDisplay(GetActiveView())\n",
    "w = display(disp)"
   ]
  },
  {
   "cell_type": "code",
   "execution_count": 9,
   "metadata": {},
   "outputs": [],
   "source": [
    "clip1 = Clip(Input=reader)\n",
    "clip1.ClipType = 'Sphere'\n",
    "clip1.ClipType.Center = [600000.0, 600000.0, 600000.0]\n",
    "clip1.ClipType.Radius = 200000.0"
   ]
  },
  {
   "cell_type": "code",
   "execution_count": 10,
   "metadata": {},
   "outputs": [],
   "source": [
    "repr2 = Show(clip1)\n",
    "\n",
    "repr2.Representation = 'Points'\n",
    "ColorBy(repr2, ('POINTS', 'velocity', 'Magnitude'))\n",
    "ResetCamera()"
   ]
  },
  {
   "cell_type": "code",
   "execution_count": 11,
   "metadata": {},
   "outputs": [],
   "source": [
    "Disconnect()"
   ]
  },
  {
   "cell_type": "code",
   "execution_count": 1,
   "metadata": {
    "ExecuteTime": {
     "end_time": "2021-08-17T14:05:36.600334Z",
     "start_time": "2021-08-17T14:05:36.597970Z"
    }
   },
   "outputs": [],
   "source": [
    "# We can d the same thing using python script and srun \n",
    "# https://user.cscs.ch/computing/visualisation/paraview/#interactive-mode-with-a-client-server-connection"
   ]
  },
  {
   "cell_type": "code",
   "execution_count": null,
   "metadata": {},
   "outputs": [],
   "source": []
  }
 ],
 "metadata": {
  "kernelspec": {
   "display_name": "Python 3",
   "language": "python",
   "name": "python3"
  },
  "language_info": {
   "codemirror_mode": {
    "name": "ipython",
    "version": 3
   },
   "file_extension": ".py",
   "mimetype": "text/x-python",
   "name": "python",
   "nbconvert_exporter": "python",
   "pygments_lexer": "ipython3",
   "version": "3.7.4"
  },
  "toc": {
   "base_numbering": 1,
   "nav_menu": {},
   "number_sections": true,
   "sideBar": true,
   "skip_h1_title": false,
   "title_cell": "Table of Contents",
   "title_sidebar": "Contents",
   "toc_cell": false,
   "toc_position": {},
   "toc_section_display": true,
   "toc_window_display": false
  }
 },
 "nbformat": 4,
 "nbformat_minor": 4
}
