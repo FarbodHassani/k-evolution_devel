{
 "cells": [
  {
   "cell_type": "raw",
   "metadata": {},
   "source": [
    "# ParaView Gadget Reader Minimal Test\n",
    "# Edited by Jean M. Favre, August 16, 2021\n",
    "# tested with ParaView-EGL v 5.9"
   ]
  },
  {
   "cell_type": "code",
   "execution_count": 1,
   "metadata": {},
   "outputs": [],
   "source": [
    "from paraview.simple import *\n",
    "from paraview.selection import *"
   ]
  },
  {
   "cell_type": "markdown",
   "metadata": {},
   "source": [
    "Using a terminal on this node, we request a new allocation:\n",
    "\n",
    "salloc -N 8 -n 8 -A csstaff -C gpu --reservation tutorial --time=00:20:00\n",
    "\n",
    "salloc: Granted job allocation 30807331 salloc: Waiting for resource configuration salloc: Nodes nid0[3508-3511] are ready for job\n",
    "\n",
    "####################\n",
    "\n",
    "We run pvserver on the newly allocated nodes\n",
    "\n",
    "srun pvserver\n",
    "\n",
    "The jupyter client must connect to the first MPI task on the new allocation, i.e. connect to the first node, e.g. nid03508\n",
    "\n",
    "Connect(\"nid03508\")"
   ]
  },
  {
   "cell_type": "code",
   "execution_count": 2,
   "metadata": {},
   "outputs": [
    {
     "data": {
      "text/plain": [
       "Connection (cs://nid02080:11111) [2]"
      ]
     },
     "execution_count": 2,
     "metadata": {},
     "output_type": "execute_result"
    }
   ],
   "source": [
    "Connect(\"nid02080\")"
   ]
  },
  {
   "cell_type": "code",
   "execution_count": 3,
   "metadata": {},
   "outputs": [],
   "source": [
    "LoadPlugin(\"/users/jfavre/Projects/Adamek/ParaViewLightConePlugin/build59/lib64/paraview-5.9/plugins/pvLightConeReader/pvLightConeReader.so\", ns=globals())"
   ]
  },
  {
   "cell_type": "code",
   "execution_count": 4,
   "metadata": {},
   "outputs": [],
   "source": [
    "renderView1 = GetRenderView()\n",
    "\n",
    "reader = LightConeSeriesReader(FileNames=['/scratch/snx3000/farbodh/Gadget2_snapshot/output_redist/lcdm_Mn0d13_gevolution_snap000_cdm_redist.0'])\n",
    "reader.PointArrayStatus = ['velocity']\n",
    "reader.UpdatePipelineInformation()"
   ]
  },
  {
   "cell_type": "code",
   "execution_count": 5,
   "metadata": {},
   "outputs": [],
   "source": [
    "reader.DistributedSnapshot = 0 # to read a single file (you should be able to run on the single node already allocated)\n",
    "reader.DistributedSnapshot = 1 # to read all files (you must do a second node allocation"
   ]
  },
  {
   "cell_type": "code",
   "execution_count": 6,
   "metadata": {},
   "outputs": [],
   "source": [
    "reader.UpdatePipeline()"
   ]
  },
  {
   "cell_type": "code",
   "execution_count": null,
   "metadata": {},
   "outputs": [],
   "source": [
    "mergeBlocks1 = MergeBlocks(Input=reader)\n",
    "mergeBlocks1.OutputDataSetType = 'Polygonal Mesh'\n",
    "mergeBlocks1.MergePoints = 0\n"
   ]
  },
  {
   "cell_type": "code",
   "execution_count": 7,
   "metadata": {},
   "outputs": [
    {
     "data": {
      "application/vnd.jupyter.widget-view+json": {
       "model_id": "afc59ab8123e400ba5a9ee05730fb37d",
       "version_major": 2,
       "version_minor": 0
      },
      "text/plain": [
       "PVDisplay(resolution=(400, 400))"
      ]
     },
     "metadata": {},
     "output_type": "display_data"
    }
   ],
   "source": [
    "from ipyparaview.widgets import PVDisplay\n",
    "disp = PVDisplay(GetActiveView())\n",
    "w = display(disp)"
   ]
  },
  {
   "cell_type": "code",
   "execution_count": null,
   "metadata": {},
   "outputs": [],
   "source": [
    "repr1 = Show(mergeBlocks1)\n",
    "repr1.Representation = 'Points'\n",
    "ColorBy(repr1, ('POINTS', 'velocity', 'Magnitude'))"
   ]
  },
  {
   "cell_type": "code",
   "execution_count": 10,
   "metadata": {},
   "outputs": [],
   "source": [
    "ResetCamera()\n"
   ]
  },
  {
   "cell_type": "code",
   "execution_count": null,
   "metadata": {},
   "outputs": [],
   "source": [
    "di = mergeBlocks1.GetDataInformation().DataInformation\n",
    "print(di.GetNumberOfPoints(), \" particles were read\\n\")"
   ]
  },
  {
   "cell_type": "code",
   "execution_count": 8,
   "metadata": {},
   "outputs": [],
   "source": [
    "clip1 = Clip(Input=reader)\n",
    "clip1.ClipType = 'Sphere'\n",
    "clip1.ClipType.Center = [600000.0, 600000.0, 600000.0]\n",
    "clip1.ClipType.Radius = 100000.0"
   ]
  },
  {
   "cell_type": "code",
   "execution_count": null,
   "metadata": {},
   "outputs": [],
   "source": [
    "Hide(mergeBlocks1)"
   ]
  },
  {
   "cell_type": "code",
   "execution_count": 9,
   "metadata": {},
   "outputs": [],
   "source": [
    "repr2 = Show(clip1)\n",
    "\n",
    "repr2.Representation = 'Points'\n",
    "ColorBy(repr2, ('POINTS', 'velocity', 'Magnitude'))"
   ]
  },
  {
   "cell_type": "code",
   "execution_count": null,
   "metadata": {},
   "outputs": [],
   "source": [
    "Disconnect()"
   ]
  },
  {
   "cell_type": "code",
   "execution_count": null,
   "metadata": {},
   "outputs": [],
   "source": []
  }
 ],
 "metadata": {
  "kernelspec": {
   "display_name": "Python 3",
   "language": "python",
   "name": "python3"
  },
  "language_info": {
   "codemirror_mode": {
    "name": "ipython",
    "version": 3
   },
   "file_extension": ".py",
   "mimetype": "text/x-python",
   "name": "python",
   "nbconvert_exporter": "python",
   "pygments_lexer": "ipython3",
   "version": "3.8.5"
  }
 },
 "nbformat": 4,
 "nbformat_minor": 4
}
