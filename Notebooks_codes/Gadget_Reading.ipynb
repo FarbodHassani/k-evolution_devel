{
 "cells": [
  {
   "cell_type": "code",
   "execution_count": 4,
   "metadata": {
    "ExecuteTime": {
     "end_time": "2021-08-16T15:32:51.043122Z",
     "start_time": "2021-08-16T15:32:51.040946Z"
    }
   },
   "outputs": [],
   "source": [
    "# from pylab import *\n",
    "import numpy as np\n",
    "# from pygadgetreader import *\n",
    "# import sys\n",
    "# # the mock-0.3.1 dir contains testcase.py, testutils.py & mock.py\n",
    "# sys.path.append('./../../Cosmology_library/')\n",
    "# # import cosmology_module\n",
    "# from cosmology_module import read_gadget\n",
    "# import python_module_Farbod"
   ]
  },
  {
   "cell_type": "code",
   "execution_count": null,
   "metadata": {
    "ExecuteTime": {
     "end_time": "2021-08-16T13:51:11.818763Z",
     "start_time": "2021-08-16T13:51:11.812043Z"
    }
   },
   "outputs": [],
   "source": [
    "read_file = read_gadget.ReadGadget(\"every_N\");\n",
    "help(read_file)\n",
    "# kind, file_location, file_base, num_ini, num_fin, output_name, param = read_file.read_params()\n",
    "# read_file.choose_every_N(kind, file_location, file_base, num_ini, num_fin, output_name, param);\n"
   ]
  },
  {
   "cell_type": "markdown",
   "metadata": {},
   "source": [
    "# CLASS lightcone-snapshot reader"
   ]
  },
  {
   "cell_type": "code",
   "execution_count": null,
   "metadata": {
    "ExecuteTime": {
     "end_time": "2021-08-15T18:05:09.430256Z",
     "start_time": "2021-08-15T18:05:09.378009Z"
    }
   },
   "outputs": [],
   "source": [
    "class Gadget_function(object):\n",
    "    \"Class for gadget2 sbapshots and lightcones to read and manipulate fields\"\n",
    "    \n",
    "    "
   ]
  },
  {
   "cell_type": "markdown",
   "metadata": {},
   "source": [
    "# Lightcone - snapshot reader"
   ]
  },
  {
   "cell_type": "code",
   "execution_count": null,
   "metadata": {
    "ExecuteTime": {
     "end_time": "2021-08-15T14:44:55.181930Z",
     "start_time": "2021-08-15T14:44:55.133624Z"
    }
   },
   "outputs": [],
   "source": [
    "\n",
    "kind=\"lightcone\"\n",
    "\n",
    "#######################################\n",
    "file_location=\"./../output/lightcones/\"#\"./../output/gadget_snap/\" #\"./../output/lightcones/\"\n",
    "file_base = \"lcdm_lightcone\"#\"lcdm_lightcone\" #gadget2_cdm\n",
    "# save_every = 1\n",
    "# num_ini = 114#0#114\n",
    "# num_fin = 116#116\n",
    "# lightcone_number = 0\n",
    "# output_name = './lightcone_text.txt'\n",
    "# #######################################\n",
    "\n",
    "\n",
    "if (kind==\"lightcone\"):\n",
    "    print(\"lightcone data in gadget format requested\")\n",
    "    f = open (output_name,\"w\")\n",
    "    f.write(\"# ID, posx, posy, posz, vx, vy, vz \\n \\n\")\n",
    "    for i in range(num_ini,num_fin+1):\n",
    "\n",
    "        data_pos = readsnap(file_location+file_base+str(i)+\"_cdm\",\"pos\",\"dm\")\n",
    "        data_ID = readsnap(file_location+file_base+str(i)+\"_cdm\",\"pid\",\"dm\")\n",
    "        data_vel = readsnap(file_location+file_base+str(i)+\"_cdm\",\"vel\",\"dm\")\n",
    "        data_pos =data_pos[:,:] /1000.; # writing in Mpc/h\n",
    "\n",
    "        for j in range (0, np.shape(data_ID)[0], save_every):\n",
    "            f.write(\"%d %10f %10f %10f %10f %10f %10f \\r\\n\" %(data_ID[j],data_pos[j,0],data_pos[j,1],data_pos[j,2],\n",
    "                                                              data_vel[j,0],data_vel[j,1],data_vel[j,2]))\n",
    "        print(\"file number\",i,\"is done!\")\n",
    "    f.close()\n",
    "\n",
    "elif (kind ==\"snapshot\"):\n",
    "    print(\"snapshot data in gadget format requested\")\n",
    "    f = open (output_name,\"w\")\n",
    "    f.write(\"# ID, posx, posy, posz, vx, vy, vz \\n \\n\")\n",
    "    for i in range(num_ini,num_fin+1):\n",
    "\n",
    "        if(i==0):\n",
    "            data_pos = readsnap(file_location+file_base+\".\"+str(i),\"pos\",\"dm\")[:readheader(file_location+file_base+\".\"+str(1),'header')['npartThisFile'][1]]\n",
    "            data_ID = readsnap(file_location+file_base+\".\"+str(i),\"pid\",\"dm\")[:readheader(file_location+file_base+\".\"+str(1),'header')['npartThisFile'][1]]\n",
    "            data_vel = readsnap(file_location+file_base+\".\"+str(i),\"vel\",\"dm\")[:readheader(file_location+file_base+\".\"+str(1),'header')['npartThisFile'][1]]\n",
    "\n",
    "        else:\n",
    "            data_pos = readsnap(file_location+file_base+\".\"+str(i),\"pos\",\"dm\")[:readheader(file_location+file_base+\".\"+str(i),'header')['npartThisFile'][1]]\n",
    "            data_ID = readsnap(file_location+file_base+\".\"+str(i),\"pid\",\"dm\")[:readheader(file_location+file_base+\".\"+str(i),'header')['npartThisFile'][1]]\n",
    "            data_vel = readsnap(file_location+file_base+\".\"+str(i),\"vel\",\"dm\")[:readheader(file_location+file_base+\".\"+str(i),'header')['npartThisFile'][1]]\n",
    "        data_pos =data_pos[:,:] /1000.; # writing in Mpc/h\n",
    "\n",
    "        for j in range (0, np.shape(data_ID)[0], save_every):\n",
    "            f.write(\"%d %10f %10f %10f %10f %10f %10f \\r\\n\" %(data_ID[j],data_pos[j,0],data_pos[j,1],data_pos[j,2],\n",
    "                                                              data_vel[j,0],data_vel[j,1],data_vel[j,2]))\n",
    "        print(\"file number\",i,\"is done!\")\n",
    "    f.close()\n",
    "\n"
   ]
  },
  {
   "cell_type": "code",
   "execution_count": null,
   "metadata": {
    "ExecuteTime": {
     "end_time": "2021-08-16T15:26:06.145723Z",
     "start_time": "2021-08-16T15:26:06.141390Z"
    }
   },
   "outputs": [],
   "source": [
    "data_pos = readheader(\"./../output/lightcones/lcdm_lightcone_0114_cdm\",\"header\")"
   ]
  },
  {
   "cell_type": "code",
   "execution_count": 8,
   "metadata": {
    "ExecuteTime": {
     "end_time": "2021-08-16T15:33:02.854401Z",
     "start_time": "2021-08-16T15:33:02.843315Z"
    }
   },
   "outputs": [],
   "source": [
    "import readgadget\n",
    "\n",
    "# # input files\n",
    "snapshot = './../output/lightcones/lcdm_lightcone_0114_cdm'\n",
    "ptype    = [1] #[1](CDM), [2](neutrinos) or [1,2](CDM+neutrinos)\n",
    "\n",
    "# # read header\n",
    "header   = readgadget.header(snapshot)\n",
    "BoxSize  = header.boxsize/1e3  #Mpc/h\n",
    "Nall     = header.nall         #Total number of particles\n",
    "Masses   = header.massarr*1e10 #Masses of the particles in Msun/h\n",
    "Omega_m  = header.omega_m      #value of Omega_m\n",
    "Omega_l  = header.omega_l      #value of Omega_l\n",
    "h        = header.hubble       #value of h\n",
    "redshift = header.redshift     #redshift of the snapshot\n",
    "Hubble   = 100.0*np.sqrt(Omega_m*(1.0+redshift)**3+Omega_l)#Value of H(z) in km/s/(Mpc/h)\n",
    "\n",
    "# # read positions, velocities and IDs of the particles\n",
    "pos = readgadget.read_block(snapshot, \"POS \", ptype)/1e3 #positions in Mpc/h\n",
    "vel = readgadget.read_block(snapshot, \"VEL \", ptype)     #peculiar velocities in km/s\n",
    "ids = readgadget.read_block(snapshot, \"ID  \", ptype)-1   #IDs starting from 0\n"
   ]
  },
  {
   "cell_type": "code",
   "execution_count": 9,
   "metadata": {
    "ExecuteTime": {
     "end_time": "2021-08-16T15:33:05.727680Z",
     "start_time": "2021-08-16T15:33:05.723933Z"
    }
   },
   "outputs": [
    {
     "data": {
      "text/plain": [
       "array([[  88.34221 , -199.41551 , -177.73254 ],\n",
       "       [ -18.963478, -177.6684  , -137.57198 ],\n",
       "       [ 145.93298 , -139.33163 , -203.47739 ],\n",
       "       ...,\n",
       "       [ -66.5388  ,  122.13773 ,  -98.41221 ],\n",
       "       [  51.988197,  134.97649 , -127.168175],\n",
       "       [  67.26826 ,  133.4568  , -130.74344 ]], dtype=float32)"
      ]
     },
     "execution_count": 9,
     "metadata": {},
     "output_type": "execute_result"
    }
   ],
   "source": [
    "vel"
   ]
  },
  {
   "cell_type": "code",
   "execution_count": null,
   "metadata": {
    "ExecuteTime": {
     "end_time": "2021-08-16T15:21:03.726004Z",
     "start_time": "2021-08-16T15:21:03.709475Z"
    }
   },
   "outputs": [],
   "source": [
    "hdr.num_files"
   ]
  },
  {
   "cell_type": "markdown",
   "metadata": {},
   "source": [
    "### test"
   ]
  },
  {
   "cell_type": "code",
   "execution_count": null,
   "metadata": {
    "ExecuteTime": {
     "end_time": "2021-08-13T23:26:33.085198Z",
     "start_time": "2021-08-13T23:26:31.988146Z"
    }
   },
   "outputs": [],
   "source": [
    "fig = plt.figure(figsize=(15,15));\n",
    "\n",
    "ax = fig.add_subplot(111, projection='3d');\n",
    "\n",
    "ax = fig.add_subplot(111, projection='3d');\n",
    "# x = data['positionX'][n:m:l]; \n",
    "# y= data['positionY'][n:m:l];\n",
    "# z=data['positionZ'][n:m:l];\n",
    "\n",
    "\n",
    "x = data_pos_full[:,0]/1000\n",
    "y = data_pos_full[:,1]/1000\n",
    "z = data_pos_full[:,2]/1000\n",
    "numfull = np.shape(data_pos_full[:,0])[0]\n",
    "ax.scatter(x, y, z, c='r',s=10,label=\"z=0\");\n",
    "# Q = plt.scatter(X, Y,marker='o',s=24)\n",
    "num=0\n",
    "\n",
    "numfull = np.shape(file_txt[:,0])[0]\n",
    "x = file_txt[:,1]\n",
    "y = file_txt[:,2]\n",
    "z = file_txt[:,3]\n",
    "# data_pos_full = file_txt\n",
    "# for i in range(0,17):\n",
    "#     num += np.shape(data_pos[i][:,0])[0]\n",
    "# #     x = data_pos[i][:,0]/1000\n",
    "# #     y = data_pos[i][:,1]/1000\n",
    "# #     z = data_pos[i][:,2]/1000\n",
    "ax.scatter(x, y, z,s=400,label=\"z=0\");\n",
    "# plt.show()\n",
    "print(num,numfull)"
   ]
  },
  {
   "cell_type": "code",
   "execution_count": null,
   "metadata": {
    "ExecuteTime": {
     "end_time": "2021-08-10T14:46:13.230812Z",
     "start_time": "2021-08-10T14:46:12.763831Z"
    }
   },
   "outputs": [],
   "source": [
    "fig = plt.figure(figsize=(15,15));\n",
    "ax = fig.add_subplot(111);\n",
    "# halo_num=3\n",
    "u, v = np.mgrid[0:2*np.pi:20j, 0:np.pi:20j]\n",
    "# x = np.cos(u)*np.sin(v)\n",
    "# y = np.sin(u)*np.sin(v)\n",
    "# z = np.cos(v)\n",
    "# i=halo_big_ID\n",
    "m=0\n",
    "# for halo_num in range (0,1):\n",
    "# #     r_vir = halo_particlas[5]*3;\n",
    "# #     x_halo =  r_vir*(np.cos(u)*np.sin(v) ) + halo_particlas[2] \n",
    "# #     y_halo = r_vir*(np.sin(u)*np.sin(v)) + halo_particlas[3] \n",
    "# #     z_halo = r_vir*(np.cos(v) ) + halo_particlas[4] \n",
    "\n",
    "#     X = halo_particlas[6][m:,0] \n",
    "#     Y = halo_particlas[6][m:,1] \n",
    "#     Z = halo_particlas[6][m:,2]\n",
    "#     U=  halo_particlas[6][m:,3]\n",
    "#     V=  halo_particlas[6][m:,4]\n",
    "#     W=  halo_particlas[6][m:,5]\n",
    "#     widths = np.linspace(0, 2, X.size)\n",
    "\n",
    "X = data_pos_full[:,1]/1000\n",
    "Y = data_pos_full[:,2]/1000\n",
    "Q = plt.scatter(X, Y,marker='o',s=24)\n",
    "for i in range(0,17):\n",
    "    X = data_pos[i][:,1]/1000\n",
    "    Y = data_pos[i][:,2]/1000\n",
    "#     ax.quiver(X, Y, Z, U, V, W,pivot='tail',length=1200,arrow_length_ratio=3)\n",
    "    Q = plt.scatter(X, Y,marker='s',s=1.9)\n",
    "#     ax.scatter(halo_particlas[2],y_halo,z_halo,c='red',label='$R_{vir}[Mpc/h]$')\n",
    "# circle1 = plt.Circle((halo_particlas[2], halo_particlas[3]),r_vir , color='r',alpha=0.4)\n",
    "#     circle1 = plt.Circle(halo_particlas[2], halo_particlas[3],2color='red' ,alpha=0.1, rstride=1, cstride=1, linewidth=0,)\n",
    "\n",
    "#     ax.set_xlabel('X Label')\n",
    "#     ax.set_ylabel('Y Label')\n",
    "# ax.set_zlabel('Z Label')\n",
    "\n",
    "\n",
    "# ax.add_artist(circle1)\n",
    "\n",
    "# plt.legend()\n",
    "plt.show()"
   ]
  },
  {
   "cell_type": "markdown",
   "metadata": {},
   "source": [
    "# Files reading"
   ]
  },
  {
   "cell_type": "code",
   "execution_count": null,
   "metadata": {
    "ExecuteTime": {
     "end_time": "2021-08-10T13:02:26.053797Z",
     "start_time": "2021-08-10T13:02:26.042091Z"
    },
    "scrolled": false
   },
   "outputs": [],
   "source": [
    "tip=('id' ,'num_p', 'mvir', 'mbound_vir', 'rvir', 'vmax', 'rvmax' ,'vrms' ,'x', 'y'\n",
    "     ,'z' ,'vx' ,'vy' ,'vz' , 'Jx', 'Jy', 'Jz', 'E' ,'Spin' ,'PosUncertainty', 'VelUncertainty' ,'bulk_vx', \n",
    "     'bulk_vy', 'bulk_vz', 'BulkVelUnc', 'n_core' ,'m200b' ,'m200c' ,'m500c' ,'m2500c' ,'Xoff',' Voff' ,\n",
    "     'spin_bullock' ,'b_to_a',' c_to_a',' A[x]' ,'A[y]' ,'A[z]' ,'b_to_a(500c)' ,'c_to_a(500c)' ,'A[x](500c)' ,\n",
    "     'A[y](500c)' ,'A[z](500c)' ,'Rs' ,'Rs_Klypin', 'T/|U|',' M_pe_Behroozi', 'M_pe_Diemer',' Halfmass_Radius',\n",
    "     'idx' ,'i_so' ,'i_ph' ,'num_cp' ,'mmetric')\n",
    "# doubl=['float64' for i in tip]\n",
    "# halos = np.loadtxt('./../rockstar/halos_0.0.ascii', dtype={'names': tip, 'formats':doubl})\n",
    "\n",
    "# halos =np.loadtxt('./halos_0.0.ascii)\n",
    "# m.readlines()\n",
    "#\n",
    "f=[]\n",
    "# zrange=3\n",
    "# for i in range(zrange):\n",
    "i=3\n",
    "# f = h5.File('./kev_output/')\n",
    "\n",
    "# number_of_halos =np.shape(halos)[0]"
   ]
  },
  {
   "cell_type": "markdown",
   "metadata": {},
   "source": [
    "# Some information"
   ]
  },
  {
   "cell_type": "code",
   "execution_count": null,
   "metadata": {},
   "outputs": [],
   "source": [
    "print(\"number of halos:\",number_of_halos)\n",
    "print(\"number of particles:\",np.shape(f['data']['positionX']) )\n",
    "\n",
    "data = f['data'];\n",
    "print(str(f.keys()) + \"\\n\" ) \n",
    "print(str(data.dtype) + \"\\n\")\n",
    "print(\"IDs=\", data['ID'].min(),data['ID'].max())\n",
    "\n",
    "# #id num_p mvir mbound_vir rvir vmax rvmax vrms x y z vx vy vz Jx Jy Jz E Spin PosUncertainty VelUncertainty bulk_vx bulk_vy bulk_vz BulkVelUnc n_core m200b m200c m500c m2500c Xoff Voff spin_bullock b_to_a c_to_a A[x] A[y] A[z] b_to_a(500c) c_to_a(500c) A[x](500c) A[y](500c) A[z](500c) Rs Rs_Klypin T/|U| M_pe_Behroozi M_pe_Diemer Halfmass_Radius idx i_so i_ph num_cp mmetric\\n',\n",
    "#  '#a = 1.030863\\n',\n",
    "#  '#Om = 0.312046; Ol = 0.687954; h = 0.675560\\n',\n",
    "#  '#FOF linking length: 0.280000\\n',\n",
    "#  '#Unbound Threshold: 0.500000; FOF Refinement Threshold: 0.700000\\n',\n",
    "#  '#Particle mass: 1.08225e+13 Msun/h\\n',\n",
    "#  '#Box size: 320.000000 Mpc/h\\n',\n",
    "#  '#Total particles processed: 262144\\n',\n",
    "#  '#Force resolution assumed: 0.0679043 Mpc/h\\n',\n",
    "#  '#Units: Masses in Msun / h\\n',\n",
    "#  '#Units: Positions in Mpc / h (comoving)\\n',\n",
    "#  '#Units: Velocities in km / s (physical, peculiar)\\n',\n",
    "#  '#Units: Halo Distances, Lengths, and Radii in kpc / h (comoving)\\n',\n",
    "#  '#Units: Angular Momenta in (Msun/h) * (Mpc/h) * km/s (physical)\\n',\n",
    "#  '#Units: Spins are dimensionless\\n',\n",
    "#  '#Units: Total energy in (Msun/h)*(km/s)^2 (physical)\\n',\n",
    "#  '#Note: idx, i_so, and i_ph are internal debugging quantities\\n',\n",
    "#  '#Np is an internal debugging quantity.\\n',\n",
    "#  '#Rockstar Version: 0.99.9-RC3+\\n',"
   ]
  },
  {
   "cell_type": "code",
   "execution_count": null,
   "metadata": {},
   "outputs": [],
   "source": [
    "# Halos\n",
    "halo_info = np.zeros((number_of_halos,5)) # ID, pos(x,y,z), r\n",
    "(halo_info[:,0], halo_info[:,1],halo_info[:,2],halo_info[:,3],halo_info[:,4]) = (halos[:,0],halos[:,8],halos[:,9],halos[:,10],\n",
    "                                                                  halos[:,4]/1000.)#r_vir in kpc.h, pos in Mpc/h\n",
    "#Particles\n",
    "data = f['data'];\n",
    "# print(f.keys())\n",
    "# print(data.dtype)\n",
    "# print(dset['ID'].min(),dset['ID'].max())\n",
    "number_of_particles = np.shape(f['data']['ID'])[0]\n",
    "#Making particles information\n",
    "pcls_pos_vel = np.zeros((np.shape(data)[0],7)) \n",
    "pcls_pos_vel[:,0],pcls_pos_vel[:,1],pcls_pos_vel[:,2],pcls_pos_vel[:,3],pcls_pos_vel[:,4],pcls_pos_vel[:,5],pcls_pos_vel[:,6] = (\n",
    "   data['positionX'], data['positionY'], data['positionZ'],data['velocityX'],data['velocityY'],data['velocityZ'],data['ID'] )\n",
    "pcls_pos_vel[:,:3]=pcls_pos_vel[:,:3]*300;\n",
    "# pos\n",
    "# np.shape(pcls_pos_vel)\n",
    "# pcls_pos_vel[:,0]==data['positionX']*320\n",
    "# pos[0],data[0]\n",
    "# halo_info[:,0]= halos[:,9]\n",
    "# np.shape(halo_info)\n",
    "# halo_info[0,:]"
   ]
  },
  {
   "cell_type": "markdown",
   "metadata": {},
   "source": [
    "# biggest halo!"
   ]
  },
  {
   "cell_type": "code",
   "execution_count": null,
   "metadata": {},
   "outputs": [],
   "source": [
    "Max_particles_halo=np.max(halos[:,1]);\n",
    "halo_big_ID=int(halos[halos[:,1]==Max_particles_halo,0][0])#ID of biggest halo"
   ]
  },
  {
   "cell_type": "code",
   "execution_count": null,
   "metadata": {},
   "outputs": [],
   "source": [
    "# i=halo_big_ID\n",
    "# haloID = halo_info[i,0]\n",
    "# rockstar_num_p = halos[i,1]\n",
    "# x0 = halo_info[i,1]\n",
    "# y0 = halo_info[i,2]\n",
    "# z0 = halo_info[i,3]\n",
    "# r_v = halo_info[i,4]\n",
    "# z0\n",
    "# pcls_pos_vel[:,:1]"
   ]
  },
  {
   "cell_type": "markdown",
   "metadata": {},
   "source": [
    "# Search for particles belong to the biggest halo!"
   ]
  },
  {
   "cell_type": "code",
   "execution_count": null,
   "metadata": {},
   "outputs": [],
   "source": [
    "#We choose particles only inside the halo with maximum particles!\n",
    "halo_particlas = []\n",
    "R2_pcls = np.zeros((number_of_particles))\n",
    "\n",
    "# for i in range(number_of_halos):\n",
    "    # ID, pos(x,y,z), r\n",
    "i=halo_big_ID\n",
    "haloID = halo_info[i,0]\n",
    "rockstar_num_p = halos[i,1]\n",
    "x0 = halo_info[i,1]\n",
    "y0 = halo_info[i,2]\n",
    "z0 = halo_info[i,3]\n",
    "r_v = halo_info[i,4]\n",
    "R2_pcls[:] = (pcls_pos_vel[:,0]-x0)**2 + (pcls_pos_vel[:,1]-y0)**2 + (pcls_pos_vel[:,2]-z0)**2\n",
    "mask = (R2_pcls<=100*r_v**2)\n",
    "pcls_pos_vel_masked = pcls_pos_vel[mask]\n",
    "    #     print(\"x\",x0,\"particle x\", pos[:,0])\n",
    "#     print(halo_ID,r_v**2,R2_pcls)\n",
    "#     print(R2_pcls<=r_v**2)\n",
    "halo_particlas=(haloID,rockstar_num_p,x0,y0,z0,r_v,pcls_pos_vel_masked)"
   ]
  },
  {
   "cell_type": "code",
   "execution_count": null,
   "metadata": {},
   "outputs": [],
   "source": [
    "#Number of particles in halo:\n",
    "# for i in range(number_of_halos):\n",
    "i=0\n",
    "print(\"halo number = \"+ str(halo_particlas[0]) + \"  Particles found = \" + str(np.shape(halo_particlas[6])[0] ) + \"  Rockstar= \"+ str(halo_particlas[1]) )"
   ]
  },
  {
   "cell_type": "code",
   "execution_count": null,
   "metadata": {},
   "outputs": [],
   "source": [
    "# i=0\n",
    "# halo_particlas[i][0] # The halo number 1\n",
    "# halo_particlas[i][1] # posx of the halo in the lattice\n",
    "# np.shape(halo_particlas[i][6]) #The particles info inside the halo\n",
    "# halo_particlas[i][6] #The particles info inside the halo, the last one is the ID od the particle\n",
    "# print(np.shape(halo_particlas[2][6]))"
   ]
  },
  {
   "cell_type": "markdown",
   "metadata": {},
   "source": [
    "# Some plots:"
   ]
  },
  {
   "cell_type": "code",
   "execution_count": null,
   "metadata": {},
   "outputs": [],
   "source": [
    "fig = plt.figure(figsize=(15,15));\n",
    "m=10**10#number_of_particles\n",
    "n=0\n",
    "l=500\n",
    "ax = fig.add_subplot(111, projection='3d');\n",
    "x = data['positionX'][n:m:l]; \n",
    "y= data['positionY'][n:m:l];\n",
    "z=data['positionZ'][n:m:l];\n",
    "ax.scatter(x, y, z, c='b',s=0.8,label=\"z=0\");\n",
    "\n",
    "plt.show()"
   ]
  },
  {
   "cell_type": "markdown",
   "metadata": {},
   "source": [
    "# Check if the particles belong to the halo"
   ]
  },
  {
   "cell_type": "code",
   "execution_count": null,
   "metadata": {},
   "outputs": [],
   "source": [
    "fig = plt.figure(figsize=(15,15));\n",
    "ax = fig.add_subplot(111, projection='3d');\n",
    "# halo_num=3\n",
    "u, v = np.mgrid[0:2*np.pi:20j, 0:np.pi:20j]\n",
    "# x = np.cos(u)*np.sin(v)\n",
    "# y = np.sin(u)*np.sin(v)\n",
    "# z = np.cos(v)\n",
    "# i=halo_big_ID\n",
    "\n",
    "for halo_num in range (0,1):\n",
    "    r_vir = halo_particlas[5]*3;\n",
    "    x_halo =  r_vir*(np.cos(u)*np.sin(v) ) + halo_particlas[2] \n",
    "    y_halo = r_vir*(np.sin(u)*np.sin(v)) + halo_particlas[3] \n",
    "    z_halo = r_vir*(np.cos(v) ) + halo_particlas[4] \n",
    "\n",
    "    x = halo_particlas[6][:,0] \n",
    "    y =  halo_particlas[6][:,1] \n",
    "    z =  halo_particlas[6][:,2]\n",
    "\n",
    "    ax.scatter(x, y, z, c='b',s=1,label=\"z=0\");\n",
    "#     ax.scatter(,y_halo,z_halo,c='red',label='$R_{vir}[Mpc/h]$')\n",
    "    ax.plot_surface(x_halo, y_halo, z_halo,color='red' ,alpha=0.1, rstride=1, cstride=1, linewidth=0,label='$3R_{vir}[Mpc/h]$')\n",
    "\n",
    "ax.set_xlabel('X Label')\n",
    "ax.set_ylabel('Y Label')\n",
    "ax.set_zlabel('Z Label')\n",
    "# ax.legend()\n",
    "\n",
    "plt.show()"
   ]
  },
  {
   "cell_type": "markdown",
   "metadata": {},
   "source": [
    "# Halo profile"
   ]
  },
  {
   "cell_type": "code",
   "execution_count": null,
   "metadata": {},
   "outputs": [],
   "source": [
    "for halo_num in range (0,1):\n",
    "# for halo_num in range ():\n",
    "\n",
    "    r_vir = halo_particlas[5]*3;\n",
    "    x_halo =  r_vir*(np.cos(u)*np.sin(v) ) + halo_particlas[2] \n",
    "    y_halo = r_vir*(np.sin(u)*np.sin(v)) + halo_particlas[3] \n",
    "    z_halo = r_vir*(np.cos(v) ) + halo_particlas[4] \n",
    "\n",
    "    x = halo_particlas[6][:,0] \n",
    "    y =  halo_particlas[6][:,1] \n",
    "    z =  halo_particlas[6][:,2]\n",
    "    deltar = np.sqrt((x-halo_particlas[2] )**2 + (y-halo_particlas[3] )**2 + (z-halo_particlas[4] )**2)\n",
    "    plt.hist(deltar,20)\n",
    "plt.show()"
   ]
  },
  {
   "cell_type": "markdown",
   "metadata": {},
   "source": [
    "# Velocity of particles inside the halo"
   ]
  },
  {
   "cell_type": "code",
   "execution_count": null,
   "metadata": {},
   "outputs": [],
   "source": [
    "fig = plt.figure(figsize=(15,15));\n",
    "ax = fig.add_subplot(111, projection='3d');\n",
    "# halo_num=3\n",
    "u, v = np.mgrid[0:2*np.pi:20j, 0:np.pi:20j]\n",
    "# x = np.cos(u)*np.sin(v)\n",
    "# y = np.sin(u)*np.sin(v)\n",
    "# z = np.cos(v)\n",
    "# i=halo_big_ID\n",
    "m=0\n",
    "for halo_num in range (0,1):\n",
    "    r_vir = halo_particlas[5]*3;\n",
    "    x_halo =  r_vir*(np.cos(u)*np.sin(v) ) + halo_particlas[2] \n",
    "    y_halo = r_vir*(np.sin(u)*np.sin(v)) + halo_particlas[3] \n",
    "    z_halo = r_vir*(np.cos(v) ) + halo_particlas[4] \n",
    "\n",
    "    X = halo_particlas[6][m:,0] \n",
    "    Y = halo_particlas[6][m:,1] \n",
    "    Z = halo_particlas[6][m:,2]\n",
    "    U=  halo_particlas[6][m:,3]\n",
    "    V=  halo_particlas[6][m:,4]\n",
    "    W=  halo_particlas[6][m:,5]\n",
    "#     ax.scatter(x, y, z, c='b',s=40,label=\"z=0\");\n",
    "#     ax.quiver(X, Y, Z, U, V, W,pivot='tail',length=1200,arrow_length_ratio=3)\n",
    "    ax.quiver(X, Y, Z, U, V, W,pivot='tail',length=200,arrow_length_ratio=0.1)\n",
    "\n",
    "#     ax.scatter(,y_halo,z_halo,c='red',label='$R_{vir}[Mpc/h]$')\n",
    "    ax.plot_surface(x_halo, y_halo, z_halo,color='red' ,alpha=0.3, rstride=1, cstride=1, linewidth=0,)\n",
    "\n",
    "ax.set_xlabel('X Label')\n",
    "ax.set_ylabel('Y Label')\n",
    "ax.set_zlabel('Z Label')\n",
    "\n",
    "\n",
    "\n",
    "# plt.legend()\n",
    "plt.show()"
   ]
  },
  {
   "cell_type": "code",
   "execution_count": null,
   "metadata": {},
   "outputs": [],
   "source": [
    "fig = plt.figure(figsize=(15,15));\n",
    "ax = fig.add_subplot(111);\n",
    "# halo_num=3\n",
    "u, v = np.mgrid[0:2*np.pi:20j, 0:np.pi:20j]\n",
    "# x = np.cos(u)*np.sin(v)\n",
    "# y = np.sin(u)*np.sin(v)\n",
    "# z = np.cos(v)\n",
    "# i=halo_big_ID\n",
    "m=0\n",
    "for halo_num in range (0,1):\n",
    "    r_vir = halo_particlas[5];\n",
    "#     x_halo =  r_vir*(np.cos(u)*np.sin(v) ) + halo_particlas[2] \n",
    "#     y_halo = r_vir*(np.sin(u)*np.sin(v)) + halo_particlas[3] \n",
    "#     z_halo = r_vir*(np.cos(v) ) + halo_particlas[4] \n",
    "\n",
    "    X = halo_particlas[6][m:,0] \n",
    "    Y = halo_particlas[6][m:,1] \n",
    "    Z = halo_particlas[6][m:,2]\n",
    "    U=  halo_particlas[6][m:,3]\n",
    "    V=  halo_particlas[6][m:,4]\n",
    "    W=  halo_particlas[6][m:,5]\n",
    "    widths = np.linspace(0, 2, X.size)\n",
    "\n",
    "#     ax.quiver(X, Y, Z, U, V, W,pivot='tail',length=1200,arrow_length_ratio=3)\n",
    "    Q = plt.quiver(X, Y, U, V, units='height',headwidth=10,headlength=20,width=0.0001,scale_units='inches',headaxislength=100)\n",
    "#     ax.scatter(halo_particlas[2],y_halo,z_halo,c='red',label='$R_{vir}[Mpc/h]$')\n",
    "    circle1 = plt.Circle((halo_particlas[2], halo_particlas[3]),r_vir , color='r',alpha=0.4)\n",
    "#     circle1 = plt.Circle(halo_particlas[2], halo_particlas[3],2color='red' ,alpha=0.1, rstride=1, cstride=1, linewidth=0,)\n",
    "\n",
    "#     ax.set_xlabel('X Label')\n",
    "#     ax.set_ylabel('Y Label')\n",
    "# ax.set_zlabel('Z Label')\n",
    "\n",
    "\n",
    "ax.add_artist(circle1)\n",
    "\n",
    "# plt.legend()\n",
    "plt.show()"
   ]
  },
  {
   "cell_type": "markdown",
   "metadata": {},
   "source": [
    "# Simulation info- snapshot fixed redshift"
   ]
  },
  {
   "cell_type": "code",
   "execution_count": null,
   "metadata": {
    "ExecuteTime": {
     "end_time": "2021-08-13T23:41:10.851559Z",
     "start_time": "2021-08-13T23:41:10.567518Z"
    },
    "scrolled": false
   },
   "outputs": [],
   "source": [
    "fileaddress=\"./../output/gadget_snap/\"\n",
    "# data_ID= readsnap(fileaddress+\"lcdm_snap_003_cdm\",\"pid\",\"dm\")\n",
    "data_pos_full= readsnap(fileaddress+\"/gadget2_cdm\",\"pos\",\"dm\")# The positions are in kpc/h\n",
    "data_id_full= readsnap(fileaddress+\"/gadget2_cdm\",\"pid\",\"dm\")# The positions are in kpc/h\n",
    "\n",
    "data_pos=[]\n",
    "data_ID=[]\n",
    "data_vel=[]\n",
    "data_txt= []\n",
    "Num_files=17\n",
    "steps = 10\n",
    "\n",
    "f = open ('./text',\"w\")\n",
    "f.write(\"# ID, posx, posy, posz, vx, vy, vz \\n \\n\")\n",
    "for i in range(0,Num_files):\n",
    "#     data_ID= readsnap(fileaddress+\"/gadget2_cdm.\"+str(i),\"pid\",\"dm\")\n",
    "    if(i==0):\n",
    "        data_ID = readsnap(fileaddress+\"/gadget2_cdm.\"+str(i),\"pid\",\"dm\")[:readheader(fileaddress+\"/gadget2_cdm.\"+str(1),'header')['npartThisFile'][1]]# The positions are in kpc/h\n",
    "        data_pos = readsnap(fileaddress+\"/gadget2_cdm.\"+str(i),\"pos\",\"dm\")[:readheader(fileaddress+\"/gadget2_cdm.\"+str(1),'header')['npartThisFile'][1]]# The positions are in kpc/h\n",
    "        data_vel = readsnap(fileaddress+\"/gadget2_cdm.\"+str(i),\"vel\",\"dm\")[:readheader(fileaddress+\"/gadget2_cdm.\"+str(1),'header')['npartThisFile'][1]]# The positions are in kpc/h\n",
    "\n",
    "    else:\n",
    "        data_pos = readsnap(fileaddress+\"/gadget2_cdm.\"+str(i),\"pos\",\"dm\")[:readheader(fileaddress+\"/gadget2_cdm.\"+str(i),'header')['npartThisFile'][1]]# The positions are in kpc/h\n",
    "        data_ID = readsnap(fileaddress+\"/gadget2_cdm.\"+str(i),\"pid\",\"dm\")[:readheader(fileaddress+\"/gadget2_cdm.\"+str(i),'header')['npartThisFile'][1]]# The positions are in kpc/h\n",
    "        data_vel = readsnap(fileaddress+\"/gadget2_cdm.\"+str(i),\"vel\",\"dm\")[:readheader(fileaddress+\"/gadget2_cdm.\"+str(i),'header')['npartThisFile'][1]]# The positions are in kpc/h\n",
    "    data_pos =data_pos[:,:] /1000.; # writing in Mpc/h\n",
    "    \n",
    "    \n",
    "    for j in range (0, np.shape(data_ID)[0], steps):\n",
    "#         for i in range(10):\n",
    "        f.write(\"%d %10f %10f %10f %10f %10f %10f \\r\\n\" %(data_ID[j],data_pos[j,0],data_pos[j,1],data_pos[j,2],\n",
    "                                                          data_vel[j,0],data_vel[j,1],data_vel[j,2]))\n",
    "    print(\"file number\",i,\"is finished\")\n",
    "f.close()\n",
    "\n"
   ]
  },
  {
   "cell_type": "code",
   "execution_count": null,
   "metadata": {},
   "outputs": [],
   "source": [
    "fig = plt.figure(figsize=(15,15));\n",
    "ax = fig.add_subplot(111);\n",
    "# halo_num=3\n",
    "u, v = np.mgrid[0:2*np.pi:20j, 0:np.pi:20j]\n",
    "# x = np.cos(u)*np.sin(v)\n",
    "# y = np.sin(u)*np.sin(v)\n",
    "# z = np.cos(v)\n",
    "# i=halo_big_ID\n",
    "m=0\n",
    "for halo_num in range (0,1):\n",
    "#     r_vir = halo_particlas[5]*3;\n",
    "#     x_halo =  r_vir*(np.cos(u)*np.sin(v) ) + halo_particlas[2] \n",
    "#     y_halo = r_vir*(np.sin(u)*np.sin(v)) + halo_particlas[3] \n",
    "#     z_halo = r_vir*(np.cos(v) ) + halo_particlas[4] \n",
    "\n",
    "    X = halo_particlas[6][m:,0] \n",
    "    Y = halo_particlas[6][m:,1] \n",
    "    Z = halo_particlas[6][m:,2]\n",
    "    U=  halo_particlas[6][m:,3]\n",
    "    V=  halo_particlas[6][m:,4]\n",
    "    W=  halo_particlas[6][m:,5]\n",
    "    widths = np.linspace(0, 2, X.size)\n",
    "\n",
    "#     ax.quiver(X, Y, Z, U, V, W,pivot='tail',length=1200,arrow_length_ratio=3)\n",
    "    Q = plt.scatter(X, Y,s=1.9)\n",
    "#     ax.scatter(halo_particlas[2],y_halo,z_halo,c='red',label='$R_{vir}[Mpc/h]$')\n",
    "    circle1 = plt.Circle((halo_particlas[2], halo_particlas[3]),r_vir , color='r',alpha=0.4)\n",
    "#     circle1 = plt.Circle(halo_particlas[2], halo_particlas[3],2color='red' ,alpha=0.1, rstride=1, cstride=1, linewidth=0,)\n",
    "\n",
    "#     ax.set_xlabel('X Label')\n",
    "#     ax.set_ylabel('Y Label')\n",
    "# ax.set_zlabel('Z Label')\n",
    "\n",
    "\n",
    "ax.add_artist(circle1)\n",
    "\n",
    "# plt.legend()\n",
    "plt.show()"
   ]
  },
  {
   "cell_type": "markdown",
   "metadata": {},
   "source": [
    "# Printing the particles inside 10 R_vir in HDF5 format"
   ]
  },
  {
   "cell_type": "code",
   "execution_count": null,
   "metadata": {},
   "outputs": [],
   "source": [
    "hf = h5.File('lcdm_256.h5', 'w')"
   ]
  },
  {
   "cell_type": "code",
   "execution_count": null,
   "metadata": {},
   "outputs": [],
   "source": [
    "# ,rockstar_num_p,x0,y0,z0,r_v\n",
    "# hf=create_dataset('haloID', data=(halo_particlas[0]) )\n",
    "g1=hf.create_group('halo')\n",
    "g1.create_dataset('haloID',data=halo_particlas[:1])\n",
    "g1.create_dataset('rockstar_num_p',data=halo_particlas[1:2])\n",
    "g1.create_dataset('x_halo',data=halo_particlas[2:3])\n",
    "g1.create_dataset('y_halo',data=halo_particlas[3:4])\n",
    "g1.create_dataset('z_halo',data=halo_particlas[4:5])\n",
    "g1.create_dataset('r_vir',data=halo_particlas[5:6])\n",
    "# #Particles\n",
    "g2=hf.create_group('particles')\n",
    "g2.create_dataset('x',data=halo_particlas[6][:,0])\n",
    "g2.create_dataset('y',data=halo_particlas[6][:,1])\n",
    "g2.create_dataset('z',data=halo_particlas[6][:,2])\n",
    "g2.create_dataset('v_x',data=halo_particlas[6][:,3])\n",
    "g2.create_dataset('v_y',data=halo_particlas[6][:,4])\n",
    "g2.create_dataset('v_z',data=halo_particlas[6][:,5])\n",
    "g2.create_dataset('ID',data=halo_particlas[6][:,6])\n"
   ]
  },
  {
   "cell_type": "code",
   "execution_count": null,
   "metadata": {},
   "outputs": [],
   "source": [
    "hf.close()"
   ]
  },
  {
   "cell_type": "markdown",
   "metadata": {},
   "source": [
    "# Reading HDF5 file"
   ]
  },
  {
   "cell_type": "code",
   "execution_count": null,
   "metadata": {},
   "outputs": [],
   "source": [
    "hf = h5.File('data1.h5', 'r')\n",
    "print(\"keys: \" +  np.str(hf.keys() ) + \"\\n\")\n",
    "\n",
    "print(\"Halo: \" +  np.str(hf['halo'].keys() ) + \"\\n\")\n",
    "print(\"Halo: \" +  np.str(hf['particles'].keys() ) + \"\\n\")\n",
    "x_halo=hf['halo']['x_halo'];\n",
    "print(\"x_halo: \"+  np.str(x_halo[0]) + \"\\n\" )\n",
    "x_pcls=hf['particles']['ID'];\n",
    "print(\"ID of pcls: \"+  np.str(x_pcls[:10]) + \"\\n\" )\n"
   ]
  },
  {
   "cell_type": "markdown",
   "metadata": {},
   "source": [
    "# Loop over all halos and searching for particles!"
   ]
  },
  {
   "cell_type": "code",
   "execution_count": null,
   "metadata": {},
   "outputs": [],
   "source": [
    "# #halo_pcls has the information of halos and particles inside!\n",
    "# halo_particlas = []\n",
    "# R2_pcls = np.zeros((number_of_particles))\n",
    "# Max_particles_halo=np.\n",
    "# for i in range(number_of_halos):\n",
    "#     # ID, pos(x,y,z), r\n",
    "#     halo_ID = halo_info[i,0]\n",
    "#     rockstar_num_p = halos[i,1]\n",
    "#     x0 = halo_info[i,1]\n",
    "#     y0 = halo_info[i,2]\n",
    "#     z0 = halo_info[i,3]\n",
    "#     r_v = halo_info[i,4]\n",
    "#     R2_pcls[:] = (pcls_pos_vel[:,0]-x0)**2 + (pcls_pos_vel[:,1]-y0)**2 + (pcls_pos_vel[:,2]-z0)**2\n",
    "#     mask = R2_pcls<=81*r_v**2\n",
    "#     pcls_pos_vel_masked = pcls_pos_vel[mask]\n",
    "#     #     print(\"x\",x0,\"particle x\", pos[:,0])\n",
    "# #     print(halo_ID,r_v**2,R2_pcls)\n",
    "# #     print(R2_pcls<=r_v**2)\n",
    "#     halo_particlas.append((halo_ID,rockstar_num_p,x0,y0,z0,r_v,pcls_pos_vel_masked))"
   ]
  },
  {
   "cell_type": "code",
   "execution_count": null,
   "metadata": {
    "ExecuteTime": {
     "end_time": "2021-08-13T11:47:40.978055Z",
     "start_time": "2021-08-13T11:47:40.972388Z"
    }
   },
   "outputs": [],
   "source": [
    "class rectangular:\n",
    "    def __init__ (self, a, b):\n",
    "        self.a = a\n",
    "        self.b = b\n",
    "        \n",
    "    def area (self):\n",
    "        return (self.a *  self.b)"
   ]
  }
 ],
 "metadata": {
  "kernelspec": {
   "display_name": "Python 3",
   "language": "python",
   "name": "python3"
  },
  "language_info": {
   "codemirror_mode": {
    "name": "ipython",
    "version": 3
   },
   "file_extension": ".py",
   "mimetype": "text/x-python",
   "name": "python",
   "nbconvert_exporter": "python",
   "pygments_lexer": "ipython3",
   "version": "3.7.4"
  },
  "toc": {
   "base_numbering": 1,
   "nav_menu": {},
   "number_sections": true,
   "sideBar": true,
   "skip_h1_title": false,
   "title_cell": "Table of Contents",
   "title_sidebar": "Contents",
   "toc_cell": false,
   "toc_position": {},
   "toc_section_display": true,
   "toc_window_display": false
  }
 },
 "nbformat": 4,
 "nbformat_minor": 2
}
