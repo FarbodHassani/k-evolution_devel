{
 "cells": [
  {
   "cell_type": "code",
   "execution_count": 3,
   "metadata": {},
   "outputs": [],
   "source": [
    "import sys\n",
    "import os\n",
    "sys.path.insert(0,'../')\n",
    "\n",
    "from readgadget import *\n",
    "from pygadgetreader import *\n",
    "from pylab import *\n",
    "import numpy as np\n",
    "\n",
    "import h5py\n",
    "import matplotlib.pylab as plt\n",
    "%matplotlib inline\n",
    "#%matplotlib notebook\n",
    "import matplotlib.pyplot as plt\n",
    "import matplotlib.cm as cm\n"
   ]
  },
  {
   "cell_type": "code",
   "execution_count": 2,
   "metadata": {},
   "outputs": [],
   "source": [
    "n_s = 0\n",
    "n_l = 15\n",
    "im=listofzeros = [0] * 40\n",
    "#,'cdm'\n",
    "snaps=['pi_k']\n",
    "for i in range(32):\n",
    "    f = h5py.File('output/lcdm_snap'+str(i).zfill(3)+'_'+'pi_k'+'.h5', \"r\")\n",
    "    s = np.array(list(f['data']))\n",
    "    im[i]=plt.imshow(s[:,:,15])\n",
    "    plt.savefig('Plots/L'+str(i)+'_'+str(n_s)+'.jpg')\n",
    "    plt.close()\n",
    "    del f\n",
    " "
   ]
  },
  {
   "cell_type": "code",
   "execution_count": 7,
   "metadata": {
    "collapsed": true
   },
   "outputs": [],
   "source": [
    "def generate_video(img):\n",
    "    for i in range(28):\n",
    "        plt.imshow(img[i], cmap=cm.Greys_r)\n",
    "        plt.savefig('Plots/L'+str(i)+'_'+str(n_s)+'.jpg')\n",
    "\n",
    "    os.chdir(\"Plots\")\n",
    "    subprocess.call([\n",
    "        'ffmpeg', '-framerate', '8', '-i', 'file%02d.png', '-r', '30', '-pix_fmt', 'yuv420p',\n",
    "        'video_name.mp4'\n",
    "    ])\n",
    "    for file_name in glob.glob(\"*.png\"):\n",
    "        os.remove(Hello)"
   ]
  },
  {
   "cell_type": "code",
   "execution_count": 8,
   "metadata": {
    "collapsed": true
   },
   "outputs": [],
   "source": [
    "def generate_video(img):\n",
    "    for i in xrange(3):\n",
    "        plt.imshow(img[i], cmap=cm.Greys_r)\n",
    "        plt.savefig(folder + \"/file%02d.png\" % i)\n",
    "\n",
    "    os.chdir(\"your_folder\")\n",
    "    subprocess.call([\n",
    "        'ffmpeg', '-framerate', '8', '-i', 'file%02d.png', '-r', '30', '-pix_fmt', 'yuv420p',\n",
    "        'video_name.mp4'\n",
    "    ])\n",
    "    for file_name in glob.glob(\"*.png\"):\n",
    "        os.remove(file_name)"
   ]
  },
  {
   "cell_type": "code",
   "execution_count": null,
   "metadata": {
    "collapsed": true
   },
   "outputs": [],
   "source": []
  },
  {
   "cell_type": "code",
   "execution_count": null,
   "metadata": {},
   "outputs": [],
   "source": []
  },
  {
   "cell_type": "code",
   "execution_count": null,
   "metadata": {},
   "outputs": [],
   "source": []
  },
  {
   "cell_type": "code",
   "execution_count": null,
   "metadata": {
    "collapsed": true
   },
   "outputs": [],
   "source": []
  }
 ],
 "metadata": {
  "anaconda-cloud": {},
  "kernelspec": {
   "display_name": "Python 2",
   "language": "python",
   "name": "python2"
  },
  "language_info": {
   "codemirror_mode": {
    "name": "ipython",
    "version": 2
   },
   "file_extension": ".py",
   "mimetype": "text/x-python",
   "name": "python",
   "nbconvert_exporter": "python",
   "pygments_lexer": "ipython2",
   "version": "2.7.14"
  },
  "toc": {
   "base_numbering": 1,
   "nav_menu": {},
   "number_sections": true,
   "sideBar": true,
   "skip_h1_title": false,
   "title_cell": "Table of Contents",
   "title_sidebar": "Contents",
   "toc_cell": false,
   "toc_position": {},
   "toc_section_display": true,
   "toc_window_display": false
  }
 },
 "nbformat": 4,
 "nbformat_minor": 1
}
